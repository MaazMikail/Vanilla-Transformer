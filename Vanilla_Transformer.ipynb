{
  "nbformat": 4,
  "nbformat_minor": 0,
  "metadata": {
    "colab": {
      "provenance": [],
      "authorship_tag": "ABX9TyN8tsPLSiQgTOf18ef6EA9S",
      "include_colab_link": true
    },
    "kernelspec": {
      "name": "python3",
      "display_name": "Python 3"
    },
    "language_info": {
      "name": "python"
    }
  },
  "cells": [
    {
      "cell_type": "markdown",
      "metadata": {
        "id": "view-in-github",
        "colab_type": "text"
      },
      "source": [
        "<a href=\"https://colab.research.google.com/github/MaazMikail/Vanilla-Transformer-Notebook/blob/main/Vanilla_Transformer.ipynb\" target=\"_parent\"><img src=\"https://colab.research.google.com/assets/colab-badge.svg\" alt=\"Open In Colab\"/></a>"
      ]
    },
    {
      "cell_type": "code",
      "execution_count": 1,
      "metadata": {
        "id": "l79Gxm8X1Wm6"
      },
      "outputs": [],
      "source": [
        "import torch\n",
        "import torch.nn as nn\n",
        "import math"
      ]
    },
    {
      "cell_type": "code",
      "source": [
        "class InputEmbeddings(nn.Module):\n",
        "  def __init__(self, d_model: int, vocab_size: int):\n",
        "    super().__init__()\n",
        "    self.d_model = d_model\n",
        "    self.vocab_size = vocab_size\n",
        "    self.emb = nn.Embedding(vocab_size, d_model)\n",
        "\n",
        "  def forward(self, x):\n",
        "    return self.emb(x) + torch.sqrt(torch.tensor(self.d_model))"
      ],
      "metadata": {
        "id": "qmOBRWJ0Cogz"
      },
      "execution_count": 2,
      "outputs": []
    },
    {
      "cell_type": "code",
      "source": [
        "embed = InputEmbeddings(512, 4096)\n",
        "res = embed(torch.tensor([143, 891, 1000, 482, 18, 12]))\n",
        "res.shape"
      ],
      "metadata": {
        "colab": {
          "base_uri": "https://localhost:8080/"
        },
        "id": "EovB_HJgIe7G",
        "outputId": "c628ff9a-c320-48f1-8325-90490e7d518c"
      },
      "execution_count": 3,
      "outputs": [
        {
          "output_type": "execute_result",
          "data": {
            "text/plain": [
              "torch.Size([6, 512])"
            ]
          },
          "metadata": {},
          "execution_count": 3
        }
      ]
    },
    {
      "cell_type": "code",
      "source": [
        "class PositionalEncoding(nn.Module):\n",
        "\n",
        "  def __init__(self, d_model: int, seq_len: int, dropout: float):\n",
        "    super().__init__()\n",
        "    self.d_model = d_model\n",
        "    self.seq_len = seq_len\n",
        "    self.dropout = nn.Dropout()\n",
        "\n",
        "    self.pe = torch.zeros(self.seq_len, self.d_model)\n",
        "\n",
        "    position = torch.arange(0, seq_len, dtype=torch.float).unsqueeze(1)\n",
        "    div_term = torch.exp(torch.arange(0,self.d_model,2).float() * (-math.log(10000.0)/self.d_model))\n",
        "\n",
        "    self.pe[:, 0::2] = torch.sin(position * div_term)\n",
        "    self.pe[:, 1::2] = torch.cos(position * div_term)\n",
        "\n",
        "    self.pe = self.pe.unsqueeze(0)\n",
        "    self.pe.requires_grad = False\n",
        "\n",
        "\n",
        "    self.register_buffer('pos', self.pe)\n",
        "\n",
        "\n",
        "  def forward(self, x):\n",
        "\n",
        "\n",
        "    x = x + self.pe\n",
        "\n",
        "    return self.dropout(x)\n",
        "\n"
      ],
      "metadata": {
        "id": "WoqVTf5AI4QS"
      },
      "execution_count": 4,
      "outputs": []
    },
    {
      "cell_type": "code",
      "source": [
        "pos = PositionalEncoding(512, 6,0)\n",
        "#res = res.unsqueeze(0)\n",
        "print(res.shape)"
      ],
      "metadata": {
        "colab": {
          "base_uri": "https://localhost:8080/"
        },
        "id": "bguZSJffN1Dv",
        "outputId": "c7d3568e-3859-4ccd-877d-f10f29282be9"
      },
      "execution_count": 5,
      "outputs": [
        {
          "output_type": "stream",
          "name": "stdout",
          "text": [
            "torch.Size([6, 512])\n"
          ]
        }
      ]
    },
    {
      "cell_type": "code",
      "source": [
        "embs_pos = pos(res)\n",
        "embs_pos.shape"
      ],
      "metadata": {
        "colab": {
          "base_uri": "https://localhost:8080/"
        },
        "id": "lED7Nu3rODk5",
        "outputId": "a2863ccf-4b40-44f7-ae89-f488138eb579"
      },
      "execution_count": 6,
      "outputs": [
        {
          "output_type": "execute_result",
          "data": {
            "text/plain": [
              "torch.Size([1, 6, 512])"
            ]
          },
          "metadata": {},
          "execution_count": 6
        }
      ]
    },
    {
      "cell_type": "code",
      "source": [
        "class LayerNorm(nn.Module):\n",
        "\n",
        "  def __init__(self, eps: float = 1e-6):\n",
        "    super().__init__()\n",
        "    self.eps = eps\n",
        "    self.alpha = nn.Parameter(torch.ones(1)) # mult\n",
        "    self.bias = nn.Parameter(torch.ones(1)) # added\n",
        "\n",
        "  def forward(self, x):\n",
        "    mean = x.mean(dim=-1, keepdim=True)\n",
        "    std = x.std(dim = -1, keepdim=True)\n",
        "    return self.alpha * (x- mean) / (std + self.eps) + self.bias\n",
        "\n"
      ],
      "metadata": {
        "id": "JtG0Qr0DPFxq"
      },
      "execution_count": 7,
      "outputs": []
    },
    {
      "cell_type": "code",
      "source": [
        "ln = LayerNorm()\n",
        "emb_norm = ln(embs_pos)\n",
        "emb_norm.shape"
      ],
      "metadata": {
        "colab": {
          "base_uri": "https://localhost:8080/"
        },
        "id": "wmRkWpNXSD6w",
        "outputId": "7b69cb25-358d-4e46-e9b7-6297d81b6018"
      },
      "execution_count": 8,
      "outputs": [
        {
          "output_type": "execute_result",
          "data": {
            "text/plain": [
              "torch.Size([1, 6, 512])"
            ]
          },
          "metadata": {},
          "execution_count": 8
        }
      ]
    },
    {
      "cell_type": "code",
      "source": [
        "emb_norm[:, :, -1].mean()"
      ],
      "metadata": {
        "colab": {
          "base_uri": "https://localhost:8080/"
        },
        "id": "8vmkdLX1SMXS",
        "outputId": "1654379d-421d-4bf4-9e06-331197962a91"
      },
      "execution_count": 9,
      "outputs": [
        {
          "output_type": "execute_result",
          "data": {
            "text/plain": [
              "tensor(1.0178, grad_fn=<MeanBackward0>)"
            ]
          },
          "metadata": {},
          "execution_count": 9
        }
      ]
    },
    {
      "cell_type": "code",
      "source": [
        "embs_pos[:, :, -1].mean()"
      ],
      "metadata": {
        "colab": {
          "base_uri": "https://localhost:8080/"
        },
        "id": "uOckU44rS5Ps",
        "outputId": "49822264-e10a-4a39-ac62-92b529171d7e"
      },
      "execution_count": 10,
      "outputs": [
        {
          "output_type": "execute_result",
          "data": {
            "text/plain": [
              "tensor(23.7750, grad_fn=<MeanBackward0>)"
            ]
          },
          "metadata": {},
          "execution_count": 10
        }
      ]
    },
    {
      "cell_type": "code",
      "source": [
        "class FeedForward(nn.Module):\n",
        "\n",
        "  def __init__(self, d_model: int, d_ff:int, dropout: float):\n",
        "    super().__init__()\n",
        "    self.ff_1 = nn.Linear(d_model, d_ff)\n",
        "    self.ff_2 = nn.Linear(d_ff, d_model)\n",
        "    self.dropout = nn.Dropout(dropout)\n",
        "\n",
        "  def forward(self, x):\n",
        "    return self.ff_2(self.dropout(nn.functional.relu(self.ff_1(x))))"
      ],
      "metadata": {
        "id": "LeKs4GEdS8KF"
      },
      "execution_count": 11,
      "outputs": []
    },
    {
      "cell_type": "code",
      "source": [
        "ff = FeedForward(512, 2048, 0)\n",
        "ff_out = ff(embs_pos)\n",
        "ff_out.shape"
      ],
      "metadata": {
        "colab": {
          "base_uri": "https://localhost:8080/"
        },
        "id": "62OiPUQhU-XA",
        "outputId": "e409965d-43d4-4e45-d90b-e401749f7edd"
      },
      "execution_count": 12,
      "outputs": [
        {
          "output_type": "execute_result",
          "data": {
            "text/plain": [
              "torch.Size([1, 6, 512])"
            ]
          },
          "metadata": {},
          "execution_count": 12
        }
      ]
    },
    {
      "cell_type": "code",
      "source": [
        "class MultiHeadAttentionBlock(nn.Module):\n",
        "\n",
        "  def __init__(self, d_model: int, h: int, dropout: float):\n",
        "    super().__init__()\n",
        "    self.d_model = d_model\n",
        "    self.h = h\n",
        "    self.dropout = nn.Dropout()\n",
        "    assert self.d_model % h == 0, \"d_model is not divisible by h\"\n",
        "    self.d_k = d_model // h\n",
        "\n",
        "    self.w_q, self.w_k, self.w_v = [nn.Linear(d_model, d_model) for _ in range(3)]\n",
        "\n",
        "    self.w_o = nn.Linear(d_model, d_model)\n",
        "\n",
        "  @staticmethod\n",
        "  def attention(query, key, value, mask, dropout: nn.Dropout):\n",
        "\n",
        "    d_k = query.shape[-1]\n",
        "    attention_scores = (query @ key.transpose(-2,-1)) / math.sqrt(d_k)\n",
        "    if mask is not None:\n",
        "      attention_scores.masked_fill_(mask==0, -1e9)\n",
        "    attention_scores = attention_scores.softmax(dim=-1)\n",
        "    if dropout is not None:\n",
        "      attention_scores = dropout(attention_scores)\n",
        "\n",
        "    return (attention_scores @ value), attention_scores\n",
        "\n",
        "  def forward(self, q, k, v, mask):\n",
        "    query = self.w_q(q)\n",
        "    key = self.w_k(k)\n",
        "    value = self.w_v(v)\n",
        "\n",
        "    query = query.view(query.shape[0], query.shape[1], self.h, self.d_k).transpose(1,2)\n",
        "    key = key.view(key.shape[0], key.shape[1], self.h, self.d_k).transpose(1,2)\n",
        "    value = value.view(value.shape[0], value.shape[1], self.h, self.d_k).transpose(1,2)\n",
        "\n",
        "    x, self.attention_scores = MultiHeadAttentionBlock.attention(query, key, value, mask, self.dropout)\n",
        "\n",
        "    x = x.transpose(1, 2).contiguous().view(x.shape[0], -1, self.h*self.d_k)\n",
        "\n",
        "    return self.w_o(x)\n"
      ],
      "metadata": {
        "id": "GfG_ZuMOVGKv"
      },
      "execution_count": 13,
      "outputs": []
    },
    {
      "cell_type": "code",
      "source": [
        "mah = MultiHeadAttentionBlock(512, 8, 0)\n",
        "mah.w_q.weight.shape, mah.w_q.bias.shape"
      ],
      "metadata": {
        "colab": {
          "base_uri": "https://localhost:8080/"
        },
        "id": "1XQnI3Mbo6oh",
        "outputId": "d7e189dd-1ceb-4d29-bd61-b0b3a54d44f4"
      },
      "execution_count": 14,
      "outputs": [
        {
          "output_type": "execute_result",
          "data": {
            "text/plain": [
              "(torch.Size([512, 512]), torch.Size([512]))"
            ]
          },
          "metadata": {},
          "execution_count": 14
        }
      ]
    },
    {
      "cell_type": "code",
      "source": [
        "mah_res = mah(embs_pos, embs_pos, embs_pos, None)\n",
        "mah_res.shape"
      ],
      "metadata": {
        "colab": {
          "base_uri": "https://localhost:8080/"
        },
        "id": "Es_ju9GrpBJY",
        "outputId": "37f2bf3b-4a83-485d-8420-28e05e453a2f"
      },
      "execution_count": 15,
      "outputs": [
        {
          "output_type": "execute_result",
          "data": {
            "text/plain": [
              "torch.Size([1, 6, 512])"
            ]
          },
          "metadata": {},
          "execution_count": 15
        }
      ]
    },
    {
      "cell_type": "code",
      "source": [
        "x, scores = MultiHeadAttentionBlock.attention(mah_res, mah_res, mah_res, None, None)"
      ],
      "metadata": {
        "id": "ZUbpF7MVwlKr"
      },
      "execution_count": 16,
      "outputs": []
    },
    {
      "cell_type": "code",
      "source": [
        "scores.shape"
      ],
      "metadata": {
        "colab": {
          "base_uri": "https://localhost:8080/"
        },
        "id": "fDnMZFFNxAew",
        "outputId": "049dbe44-2492-4ce8-b842-c23682fef00b"
      },
      "execution_count": 78,
      "outputs": [
        {
          "output_type": "execute_result",
          "data": {
            "text/plain": [
              "torch.Size([1, 8, 6, 6])"
            ]
          },
          "metadata": {},
          "execution_count": 78
        }
      ]
    },
    {
      "cell_type": "code",
      "source": [
        "x.shape"
      ],
      "metadata": {
        "colab": {
          "base_uri": "https://localhost:8080/"
        },
        "id": "lVL5z5PMyRUj",
        "outputId": "8f947cae-2139-4487-afde-13fa06f539d2"
      },
      "execution_count": 91,
      "outputs": [
        {
          "output_type": "execute_result",
          "data": {
            "text/plain": [
              "torch.Size([1, 8, 6, 64])"
            ]
          },
          "metadata": {},
          "execution_count": 91
        }
      ]
    },
    {
      "cell_type": "code",
      "source": [
        "class ResidualConnection(nn.Module):\n",
        "\n",
        "  def __init__(self, dropout: float):\n",
        "    super().__init__()\n",
        "    self.dropout = nn.Dropout(dropout)\n",
        "    self.norm = LayerNorm()\n",
        "\n",
        "  def forward(self, x, sublayer):\n",
        "    return x + self.dropout(sublayer(self.norm(x)))"
      ],
      "metadata": {
        "id": "oW7gyO416t-U"
      },
      "execution_count": 21,
      "outputs": []
    },
    {
      "cell_type": "code",
      "source": [
        "rc = ResidualConnection(0)\n",
        "rc"
      ],
      "metadata": {
        "colab": {
          "base_uri": "https://localhost:8080/"
        },
        "id": "L1ilVj6p8f-t",
        "outputId": "c24b7357-6664-4a79-85c8-f47398ead9d6"
      },
      "execution_count": 22,
      "outputs": [
        {
          "output_type": "execute_result",
          "data": {
            "text/plain": [
              "ResidualConnection(\n",
              "  (dropout): Dropout(p=0, inplace=False)\n",
              "  (norm): LayerNorm()\n",
              ")"
            ]
          },
          "metadata": {},
          "execution_count": 22
        }
      ]
    },
    {
      "cell_type": "code",
      "source": [
        "class EncoderBlock(nn.Module):\n",
        "\n",
        "  def __init__(self, self_attention_block: MultiHeadAttentionBlock, feed_forward_block: FeedForward, dropout: float):\n",
        "    super().__init__()\n",
        "    self.attention_block = self_attention_block\n",
        "    self.feed_forward_block = feed_forward_block\n",
        "    self.residual_connections = nn.ModuleList([ResidualConnection(dropout) for _ in range(2)])\n",
        "\n",
        "\n",
        "  def forward(self, x, src_mask):\n",
        "    x = self.residual_connections[0](x, lambda x: self.attention_block(x,x,x,src_mask))\n",
        "    x = self.residual_connections[1](x, self.feed_forward_block)\n",
        "\n",
        "    return x\n"
      ],
      "metadata": {
        "id": "f3S8R1mY8085"
      },
      "execution_count": 23,
      "outputs": []
    },
    {
      "cell_type": "code",
      "source": [
        "en = EncoderBlock(mah, ff, 0)"
      ],
      "metadata": {
        "id": "uLyz3rnb-gf5"
      },
      "execution_count": 24,
      "outputs": []
    },
    {
      "cell_type": "code",
      "source": [
        "all_result = en(embs_pos, None)"
      ],
      "metadata": {
        "id": "xA3Cxj9u-x6L"
      },
      "execution_count": 25,
      "outputs": []
    },
    {
      "cell_type": "code",
      "source": [
        "all_result.shape"
      ],
      "metadata": {
        "colab": {
          "base_uri": "https://localhost:8080/"
        },
        "id": "_gEJXDF0BgLZ",
        "outputId": "659d22ad-f185-47d1-c30a-16a17540a8b7"
      },
      "execution_count": 26,
      "outputs": [
        {
          "output_type": "execute_result",
          "data": {
            "text/plain": [
              "torch.Size([1, 6, 512])"
            ]
          },
          "metadata": {},
          "execution_count": 26
        }
      ]
    },
    {
      "cell_type": "code",
      "source": [],
      "metadata": {
        "id": "mXZh-XBLBgOu"
      },
      "execution_count": 26,
      "outputs": []
    },
    {
      "cell_type": "code",
      "source": [
        "class Encoder(nn.Module):\n",
        "\n",
        "  def __init__(self, layers: nn.ModuleList):\n",
        "    super().__init__()\n",
        "    self.layers = layers\n",
        "    self.norm = LayerNorm()\n",
        "\n",
        "  def forward(self, x, mask):\n",
        "    for layer in self.layers:\n",
        "      x = layer(x, mask)\n",
        "    return self.norm(x)"
      ],
      "metadata": {
        "id": "wAfJTLi--zYh"
      },
      "execution_count": 27,
      "outputs": []
    },
    {
      "cell_type": "code",
      "source": [
        "encoder = Encoder(nn.ModuleList([EncoderBlock(mah, ff, 0) for _ in range(5)]))\n",
        "encoder"
      ],
      "metadata": {
        "colab": {
          "base_uri": "https://localhost:8080/"
        },
        "id": "bBQL7I-ABcGJ",
        "outputId": "23be6d80-312d-451b-ab64-82bb5aadb170"
      },
      "execution_count": 28,
      "outputs": [
        {
          "output_type": "execute_result",
          "data": {
            "text/plain": [
              "Encoder(\n",
              "  (layers): ModuleList(\n",
              "    (0-4): 5 x EncoderBlock(\n",
              "      (attention_block): MultiHeadAttentionBlock(\n",
              "        (dropout): Dropout(p=0.5, inplace=False)\n",
              "        (w_q): Linear(in_features=512, out_features=512, bias=True)\n",
              "        (w_k): Linear(in_features=512, out_features=512, bias=True)\n",
              "        (w_v): Linear(in_features=512, out_features=512, bias=True)\n",
              "        (w_o): Linear(in_features=512, out_features=512, bias=True)\n",
              "      )\n",
              "      (feed_forward_block): FeedForward(\n",
              "        (ff_1): Linear(in_features=512, out_features=2048, bias=True)\n",
              "        (ff_2): Linear(in_features=2048, out_features=512, bias=True)\n",
              "        (dropout): Dropout(p=0, inplace=False)\n",
              "      )\n",
              "      (residual_connections): ModuleList(\n",
              "        (0-1): 2 x ResidualConnection(\n",
              "          (dropout): Dropout(p=0, inplace=False)\n",
              "          (norm): LayerNorm()\n",
              "        )\n",
              "      )\n",
              "    )\n",
              "  )\n",
              "  (norm): LayerNorm()\n",
              ")"
            ]
          },
          "metadata": {},
          "execution_count": 28
        }
      ]
    },
    {
      "cell_type": "code",
      "source": [
        "encoder_result = encoder(embs_pos, None)\n",
        "encoder_result.shape"
      ],
      "metadata": {
        "colab": {
          "base_uri": "https://localhost:8080/"
        },
        "id": "4DdWnNQICM6n",
        "outputId": "6b4a012b-43f1-4a9a-bd7f-22c8721d9e5e"
      },
      "execution_count": 29,
      "outputs": [
        {
          "output_type": "execute_result",
          "data": {
            "text/plain": [
              "torch.Size([1, 6, 512])"
            ]
          },
          "metadata": {},
          "execution_count": 29
        }
      ]
    },
    {
      "cell_type": "code",
      "source": [
        "class DecoderBlock(nn.Module):\n",
        "\n",
        "  def __init__(self, self_attention_block: MultiHeadAttentionBlock, cross_attention_block: MultiHeadAttentionBlock, feed_forward: FeedForward, dropout: float):\n",
        "    super().__init__()\n",
        "    self.self_attention_block = self_attention_block\n",
        "    self.cross_attention_block = cross_attention_block\n",
        "    self.feed_forward_block = feed_forward\n",
        "    self.residual_connections = nn.ModuleList([ResidualConnection(dropout) for _ in range(3)])\n",
        "\n",
        "  def forward(self, x, encoder_output, src_mask, tgt_mask):\n",
        "    x = self.residual_connections[0](x, lambda x: self.self_attention_block(x,x,x,tgt_mask))\n",
        "    x = self.residual_connections[1](x, lambda x: self.cross_attention_block(x, encoder_output, encoder_output, src_mask))\n",
        "    x = self.residual_connections[2](x, self.feed_forward_block)\n",
        "\n",
        "    return x"
      ],
      "metadata": {
        "id": "sSukfHn2Cjjt"
      },
      "execution_count": 30,
      "outputs": []
    },
    {
      "cell_type": "code",
      "source": [
        "dec_block = DecoderBlock(mah, mah, ff, 0)\n",
        "dec_block"
      ],
      "metadata": {
        "colab": {
          "base_uri": "https://localhost:8080/"
        },
        "id": "lPpOKf0h95k2",
        "outputId": "372ac46a-d1b0-47f1-a132-49cef697e013"
      },
      "execution_count": 31,
      "outputs": [
        {
          "output_type": "execute_result",
          "data": {
            "text/plain": [
              "DecoderBlock(\n",
              "  (self_attention_block): MultiHeadAttentionBlock(\n",
              "    (dropout): Dropout(p=0.5, inplace=False)\n",
              "    (w_q): Linear(in_features=512, out_features=512, bias=True)\n",
              "    (w_k): Linear(in_features=512, out_features=512, bias=True)\n",
              "    (w_v): Linear(in_features=512, out_features=512, bias=True)\n",
              "    (w_o): Linear(in_features=512, out_features=512, bias=True)\n",
              "  )\n",
              "  (cross_attention_block): MultiHeadAttentionBlock(\n",
              "    (dropout): Dropout(p=0.5, inplace=False)\n",
              "    (w_q): Linear(in_features=512, out_features=512, bias=True)\n",
              "    (w_k): Linear(in_features=512, out_features=512, bias=True)\n",
              "    (w_v): Linear(in_features=512, out_features=512, bias=True)\n",
              "    (w_o): Linear(in_features=512, out_features=512, bias=True)\n",
              "  )\n",
              "  (feed_forward_block): FeedForward(\n",
              "    (ff_1): Linear(in_features=512, out_features=2048, bias=True)\n",
              "    (ff_2): Linear(in_features=2048, out_features=512, bias=True)\n",
              "    (dropout): Dropout(p=0, inplace=False)\n",
              "  )\n",
              "  (residual_connections): ModuleList(\n",
              "    (0-2): 3 x ResidualConnection(\n",
              "      (dropout): Dropout(p=0, inplace=False)\n",
              "      (norm): LayerNorm()\n",
              "    )\n",
              "  )\n",
              ")"
            ]
          },
          "metadata": {},
          "execution_count": 31
        }
      ]
    },
    {
      "cell_type": "code",
      "source": [
        "class Decoder(nn.Module):\n",
        "\n",
        "  def __init__(self, layers: nn.ModuleList):\n",
        "    super().__init__()\n",
        "    self.layers = layers\n",
        "    self.norm = LayerNorm()\n",
        "\n",
        "  def forward(self, x, encoder_output, src_mask, tgt_mask):\n",
        "    for layer in self.layers:\n",
        "      x = layer(x, encoder_output, src_mask, tgt_mask)\n",
        "    return self.norm(x)"
      ],
      "metadata": {
        "id": "-vK3I6zVF8cg"
      },
      "execution_count": 32,
      "outputs": []
    },
    {
      "cell_type": "code",
      "source": [
        "dec = Decoder(nn.ModuleList([DecoderBlock(mah,mah, ff, 0) for _ in range(5)]))\n",
        "dec"
      ],
      "metadata": {
        "colab": {
          "base_uri": "https://localhost:8080/"
        },
        "id": "lyMD0iwS9bVH",
        "outputId": "7191cbd3-0812-452e-a8ec-32a7d5643d95"
      },
      "execution_count": 33,
      "outputs": [
        {
          "output_type": "execute_result",
          "data": {
            "text/plain": [
              "Decoder(\n",
              "  (layers): ModuleList(\n",
              "    (0-4): 5 x DecoderBlock(\n",
              "      (self_attention_block): MultiHeadAttentionBlock(\n",
              "        (dropout): Dropout(p=0.5, inplace=False)\n",
              "        (w_q): Linear(in_features=512, out_features=512, bias=True)\n",
              "        (w_k): Linear(in_features=512, out_features=512, bias=True)\n",
              "        (w_v): Linear(in_features=512, out_features=512, bias=True)\n",
              "        (w_o): Linear(in_features=512, out_features=512, bias=True)\n",
              "      )\n",
              "      (cross_attention_block): MultiHeadAttentionBlock(\n",
              "        (dropout): Dropout(p=0.5, inplace=False)\n",
              "        (w_q): Linear(in_features=512, out_features=512, bias=True)\n",
              "        (w_k): Linear(in_features=512, out_features=512, bias=True)\n",
              "        (w_v): Linear(in_features=512, out_features=512, bias=True)\n",
              "        (w_o): Linear(in_features=512, out_features=512, bias=True)\n",
              "      )\n",
              "      (feed_forward_block): FeedForward(\n",
              "        (ff_1): Linear(in_features=512, out_features=2048, bias=True)\n",
              "        (ff_2): Linear(in_features=2048, out_features=512, bias=True)\n",
              "        (dropout): Dropout(p=0, inplace=False)\n",
              "      )\n",
              "      (residual_connections): ModuleList(\n",
              "        (0-2): 3 x ResidualConnection(\n",
              "          (dropout): Dropout(p=0, inplace=False)\n",
              "          (norm): LayerNorm()\n",
              "        )\n",
              "      )\n",
              "    )\n",
              "  )\n",
              "  (norm): LayerNorm()\n",
              ")"
            ]
          },
          "metadata": {},
          "execution_count": 33
        }
      ]
    },
    {
      "cell_type": "code",
      "source": [
        "decoder_output = dec(embs_pos, encoder_result, None, None)\n",
        "decoder_output.shape"
      ],
      "metadata": {
        "colab": {
          "base_uri": "https://localhost:8080/"
        },
        "id": "AblZ3HGX-Ggy",
        "outputId": "7141c335-fd23-4b3f-a52f-af21fb27e38b"
      },
      "execution_count": 34,
      "outputs": [
        {
          "output_type": "execute_result",
          "data": {
            "text/plain": [
              "torch.Size([1, 6, 512])"
            ]
          },
          "metadata": {},
          "execution_count": 34
        }
      ]
    },
    {
      "cell_type": "code",
      "source": [
        "class ProjectionLayer(nn.Module):\n",
        "\n",
        "  def __init__(self, d_model:int, vocab_size: int):\n",
        "    super().__init__()\n",
        "    self.proj = nn.Linear(d_model, vocab_size)\n",
        "\n",
        "  def forward(self, x):\n",
        "    x = self.proj(x)\n",
        "\n",
        "    return torch.log_softmax(x, dim=-1)\n"
      ],
      "metadata": {
        "id": "3UxF_REMhRGW"
      },
      "execution_count": 35,
      "outputs": []
    },
    {
      "cell_type": "code",
      "source": [
        "proj = ProjectionLayer(512, 4096)\n",
        "proj = proj(decoder_output)\n",
        "proj.shape"
      ],
      "metadata": {
        "colab": {
          "base_uri": "https://localhost:8080/"
        },
        "id": "1Bhr6k5x9Pnm",
        "outputId": "04a54156-76bc-464b-d60c-c05b4c895930"
      },
      "execution_count": 36,
      "outputs": [
        {
          "output_type": "execute_result",
          "data": {
            "text/plain": [
              "torch.Size([1, 6, 4096])"
            ]
          },
          "metadata": {},
          "execution_count": 36
        }
      ]
    },
    {
      "cell_type": "code",
      "source": [
        "class TransformerBlock(nn.Module):\n",
        "\n",
        "  def __init__(self, encoder: Encoder, decoder: Decoder, src_emb: InputEmbeddings, tgt_emb: InputEmbeddings, src_pos: PositionalEncoding, tgt_pos: PositionalEncoding, proj: ProjectionLayer):\n",
        "    super().__init__()\n",
        "    self.encoder = encoder\n",
        "    self.decoder = decoder\n",
        "    self.src_emb = src_emb\n",
        "    self.tgt_emb = tgt_emb\n",
        "    self.src_pos = src_pos\n",
        "    self.tgt_pos = tgt_pos\n",
        "    self.proj = proj\n",
        "\n",
        "  def encode(self, src, src_mask):\n",
        "    src = self.src_embed(src)\n",
        "    src = self.src_pos(src)\n",
        "    return self.encoder(src, src_mask)\n",
        "\n",
        "  def decode(self, encoder_output, src_mask, tgt, tgt_mask):\n",
        "    tgt = self.tgt_embed(tgt)\n",
        "    tgt = self.tgt_pos(tgt)\n",
        "    return self.decoder(tgt, encoder_output, src_mask, tgt_mask)\n",
        "\n",
        "  def project(self, x):\n",
        "    return self.proj(x)\n",
        "\n",
        "\n",
        ""
      ],
      "metadata": {
        "id": "VvZBAS1P-aBf"
      },
      "execution_count": 37,
      "outputs": []
    },
    {
      "cell_type": "code",
      "source": [
        "def build_transformer(src_vocab_size: int, tgt_vocab_size: int, src_seq_len: int, tgt_seq_len:int, d_ff: int = 2048, d_model: int = 512, N: int = 6, h: int = 8, dropout: float = 0.0):\n",
        "\n",
        "  # embed layer\n",
        "  src_embed = InputEmbeddings(d_model, src_vocab_size)\n",
        "  tgt_embed = InputEmbeddings(d_model, tgt_vocab_size)\n",
        "\n",
        "  # pos embs\n",
        "  src_pos = PositionalEncoding(d_model, src_seq_len, dropout)\n",
        "  tgt_pos = PositionalEncoding(d_model, tgt_seq_len, dropout)\n",
        "\n",
        "\n",
        "  # encoder\n",
        "  encoder_blocks = []\n",
        "  for _ in range(N):\n",
        "    encoder_self_attention_block = MultiHeadAttentionBlock(d_model, h, dropout)\n",
        "    feed_forward_block = FeedForward(d_model, d_ff, dropout)\n",
        "    encoder_block = EncoderBlock(encoder_self_attention_block, feed_forward_block, dropout)\n",
        "    encoder_blocks.append(encoder_block)\n",
        "\n",
        "  # decoder\n",
        "  decoder_blocks = []\n",
        "  decoder_self_attention_block = MultiHeadAttentionBlock(d_model, h, dropout)\n",
        "  decoder_cross_attention_block = MultiHeadAttentionBlock(d_model, h, dropout)\n",
        "  feed_forward_block = FeedForward(d_model, d_ff, dropout)\n",
        "  decoder_block = DecoderBlock(decoder_self_attention_block, decoder_cross_attention_block, feed_forward_block, dropout)\n",
        "  decoder_blocks.append(decoder_block)\n",
        "\n",
        "  # combine\n",
        "  encoder = Encoder(nn.ModuleList(encoder_blocks))\n",
        "  decoder = Decoder(nn.ModuleList(decoder_blocks))\n",
        "\n",
        "\n",
        "  # projection\n",
        "  projection_layer = ProjectionLayer(d_model, tgt_vocab_size)\n",
        "\n",
        "  # transformer\n",
        "\n",
        "  transformer = TransformerBlock(encoder, decoder, src_embed, tgt_embed, src_pos, tgt_pos, projection_layer)\n",
        "\n",
        "  for p in transformer.parameters():\n",
        "    if p.dim()>1:\n",
        "      nn.init.xavier_uniform_(p)\n",
        "\n",
        "\n",
        "  return transformer\n",
        ""
      ],
      "metadata": {
        "id": "ODibcY0x_tqQ"
      },
      "execution_count": 38,
      "outputs": []
    },
    {
      "cell_type": "code",
      "source": [
        "tf = build_transformer(4096, 4096, 6, 6)"
      ],
      "metadata": {
        "id": "F0T-O22uAcD0"
      },
      "execution_count": 39,
      "outputs": []
    },
    {
      "cell_type": "code",
      "source": [
        "tf"
      ],
      "metadata": {
        "colab": {
          "base_uri": "https://localhost:8080/"
        },
        "id": "ftq_1KN0Dx2b",
        "outputId": "d5da96ca-941a-4aaa-80e2-b312d9de7b4b"
      },
      "execution_count": 40,
      "outputs": [
        {
          "output_type": "execute_result",
          "data": {
            "text/plain": [
              "TransformerBlock(\n",
              "  (encoder): Encoder(\n",
              "    (layers): ModuleList(\n",
              "      (0-5): 6 x EncoderBlock(\n",
              "        (attention_block): MultiHeadAttentionBlock(\n",
              "          (dropout): Dropout(p=0.5, inplace=False)\n",
              "          (w_q): Linear(in_features=512, out_features=512, bias=True)\n",
              "          (w_k): Linear(in_features=512, out_features=512, bias=True)\n",
              "          (w_v): Linear(in_features=512, out_features=512, bias=True)\n",
              "          (w_o): Linear(in_features=512, out_features=512, bias=True)\n",
              "        )\n",
              "        (feed_forward_block): FeedForward(\n",
              "          (ff_1): Linear(in_features=512, out_features=2048, bias=True)\n",
              "          (ff_2): Linear(in_features=2048, out_features=512, bias=True)\n",
              "          (dropout): Dropout(p=0.0, inplace=False)\n",
              "        )\n",
              "        (residual_connections): ModuleList(\n",
              "          (0-1): 2 x ResidualConnection(\n",
              "            (dropout): Dropout(p=0.0, inplace=False)\n",
              "            (norm): LayerNorm()\n",
              "          )\n",
              "        )\n",
              "      )\n",
              "    )\n",
              "    (norm): LayerNorm()\n",
              "  )\n",
              "  (decoder): Decoder(\n",
              "    (layers): ModuleList(\n",
              "      (0): DecoderBlock(\n",
              "        (self_attention_block): MultiHeadAttentionBlock(\n",
              "          (dropout): Dropout(p=0.5, inplace=False)\n",
              "          (w_q): Linear(in_features=512, out_features=512, bias=True)\n",
              "          (w_k): Linear(in_features=512, out_features=512, bias=True)\n",
              "          (w_v): Linear(in_features=512, out_features=512, bias=True)\n",
              "          (w_o): Linear(in_features=512, out_features=512, bias=True)\n",
              "        )\n",
              "        (cross_attention_block): MultiHeadAttentionBlock(\n",
              "          (dropout): Dropout(p=0.5, inplace=False)\n",
              "          (w_q): Linear(in_features=512, out_features=512, bias=True)\n",
              "          (w_k): Linear(in_features=512, out_features=512, bias=True)\n",
              "          (w_v): Linear(in_features=512, out_features=512, bias=True)\n",
              "          (w_o): Linear(in_features=512, out_features=512, bias=True)\n",
              "        )\n",
              "        (feed_forward_block): FeedForward(\n",
              "          (ff_1): Linear(in_features=512, out_features=2048, bias=True)\n",
              "          (ff_2): Linear(in_features=2048, out_features=512, bias=True)\n",
              "          (dropout): Dropout(p=0.0, inplace=False)\n",
              "        )\n",
              "        (residual_connections): ModuleList(\n",
              "          (0-2): 3 x ResidualConnection(\n",
              "            (dropout): Dropout(p=0.0, inplace=False)\n",
              "            (norm): LayerNorm()\n",
              "          )\n",
              "        )\n",
              "      )\n",
              "    )\n",
              "    (norm): LayerNorm()\n",
              "  )\n",
              "  (src_emb): InputEmbeddings(\n",
              "    (emb): Embedding(4096, 512)\n",
              "  )\n",
              "  (tgt_emb): InputEmbeddings(\n",
              "    (emb): Embedding(4096, 512)\n",
              "  )\n",
              "  (src_pos): PositionalEncoding(\n",
              "    (dropout): Dropout(p=0.5, inplace=False)\n",
              "  )\n",
              "  (tgt_pos): PositionalEncoding(\n",
              "    (dropout): Dropout(p=0.5, inplace=False)\n",
              "  )\n",
              "  (proj): ProjectionLayer(\n",
              "    (proj): Linear(in_features=512, out_features=4096, bias=True)\n",
              "  )\n",
              ")"
            ]
          },
          "metadata": {},
          "execution_count": 40
        }
      ]
    },
    {
      "cell_type": "code",
      "source": [
        "# Get named learnable parameters\n",
        "learnable_named_params = [(name, param) for name, param in tf.named_parameters() if param.requires_grad]\n",
        "\n",
        "for name, param in learnable_named_params:\n",
        "    print(f\"Parameter name: {name}, value: {param.shape}\")\n"
      ],
      "metadata": {
        "colab": {
          "base_uri": "https://localhost:8080/"
        },
        "id": "UiL5Zk8iD646",
        "outputId": "c9aeb690-3449-4832-d6ef-700050b0fd68"
      },
      "execution_count": 36,
      "outputs": [
        {
          "output_type": "stream",
          "name": "stdout",
          "text": [
            "Parameter name: encoder.layers.0.attention_block.w_q.weight, value: torch.Size([512, 512])\n",
            "Parameter name: encoder.layers.0.attention_block.w_q.bias, value: torch.Size([512])\n",
            "Parameter name: encoder.layers.0.attention_block.w_k.weight, value: torch.Size([512, 512])\n",
            "Parameter name: encoder.layers.0.attention_block.w_k.bias, value: torch.Size([512])\n",
            "Parameter name: encoder.layers.0.attention_block.w_v.weight, value: torch.Size([512, 512])\n",
            "Parameter name: encoder.layers.0.attention_block.w_v.bias, value: torch.Size([512])\n",
            "Parameter name: encoder.layers.0.attention_block.w_o.weight, value: torch.Size([512, 512])\n",
            "Parameter name: encoder.layers.0.attention_block.w_o.bias, value: torch.Size([512])\n",
            "Parameter name: encoder.layers.0.feed_forward_block.ff_1.weight, value: torch.Size([2048, 512])\n",
            "Parameter name: encoder.layers.0.feed_forward_block.ff_1.bias, value: torch.Size([2048])\n",
            "Parameter name: encoder.layers.0.feed_forward_block.ff_2.weight, value: torch.Size([512, 2048])\n",
            "Parameter name: encoder.layers.0.feed_forward_block.ff_2.bias, value: torch.Size([512])\n",
            "Parameter name: encoder.layers.0.residual_connections.0.norm.alpha, value: torch.Size([1])\n",
            "Parameter name: encoder.layers.0.residual_connections.0.norm.bias, value: torch.Size([1])\n",
            "Parameter name: encoder.layers.0.residual_connections.1.norm.alpha, value: torch.Size([1])\n",
            "Parameter name: encoder.layers.0.residual_connections.1.norm.bias, value: torch.Size([1])\n",
            "Parameter name: encoder.layers.1.attention_block.w_q.weight, value: torch.Size([512, 512])\n",
            "Parameter name: encoder.layers.1.attention_block.w_q.bias, value: torch.Size([512])\n",
            "Parameter name: encoder.layers.1.attention_block.w_k.weight, value: torch.Size([512, 512])\n",
            "Parameter name: encoder.layers.1.attention_block.w_k.bias, value: torch.Size([512])\n",
            "Parameter name: encoder.layers.1.attention_block.w_v.weight, value: torch.Size([512, 512])\n",
            "Parameter name: encoder.layers.1.attention_block.w_v.bias, value: torch.Size([512])\n",
            "Parameter name: encoder.layers.1.attention_block.w_o.weight, value: torch.Size([512, 512])\n",
            "Parameter name: encoder.layers.1.attention_block.w_o.bias, value: torch.Size([512])\n",
            "Parameter name: encoder.layers.1.feed_forward_block.ff_1.weight, value: torch.Size([2048, 512])\n",
            "Parameter name: encoder.layers.1.feed_forward_block.ff_1.bias, value: torch.Size([2048])\n",
            "Parameter name: encoder.layers.1.feed_forward_block.ff_2.weight, value: torch.Size([512, 2048])\n",
            "Parameter name: encoder.layers.1.feed_forward_block.ff_2.bias, value: torch.Size([512])\n",
            "Parameter name: encoder.layers.1.residual_connections.0.norm.alpha, value: torch.Size([1])\n",
            "Parameter name: encoder.layers.1.residual_connections.0.norm.bias, value: torch.Size([1])\n",
            "Parameter name: encoder.layers.1.residual_connections.1.norm.alpha, value: torch.Size([1])\n",
            "Parameter name: encoder.layers.1.residual_connections.1.norm.bias, value: torch.Size([1])\n",
            "Parameter name: encoder.layers.2.attention_block.w_q.weight, value: torch.Size([512, 512])\n",
            "Parameter name: encoder.layers.2.attention_block.w_q.bias, value: torch.Size([512])\n",
            "Parameter name: encoder.layers.2.attention_block.w_k.weight, value: torch.Size([512, 512])\n",
            "Parameter name: encoder.layers.2.attention_block.w_k.bias, value: torch.Size([512])\n",
            "Parameter name: encoder.layers.2.attention_block.w_v.weight, value: torch.Size([512, 512])\n",
            "Parameter name: encoder.layers.2.attention_block.w_v.bias, value: torch.Size([512])\n",
            "Parameter name: encoder.layers.2.attention_block.w_o.weight, value: torch.Size([512, 512])\n",
            "Parameter name: encoder.layers.2.attention_block.w_o.bias, value: torch.Size([512])\n",
            "Parameter name: encoder.layers.2.feed_forward_block.ff_1.weight, value: torch.Size([2048, 512])\n",
            "Parameter name: encoder.layers.2.feed_forward_block.ff_1.bias, value: torch.Size([2048])\n",
            "Parameter name: encoder.layers.2.feed_forward_block.ff_2.weight, value: torch.Size([512, 2048])\n",
            "Parameter name: encoder.layers.2.feed_forward_block.ff_2.bias, value: torch.Size([512])\n",
            "Parameter name: encoder.layers.2.residual_connections.0.norm.alpha, value: torch.Size([1])\n",
            "Parameter name: encoder.layers.2.residual_connections.0.norm.bias, value: torch.Size([1])\n",
            "Parameter name: encoder.layers.2.residual_connections.1.norm.alpha, value: torch.Size([1])\n",
            "Parameter name: encoder.layers.2.residual_connections.1.norm.bias, value: torch.Size([1])\n",
            "Parameter name: encoder.layers.3.attention_block.w_q.weight, value: torch.Size([512, 512])\n",
            "Parameter name: encoder.layers.3.attention_block.w_q.bias, value: torch.Size([512])\n",
            "Parameter name: encoder.layers.3.attention_block.w_k.weight, value: torch.Size([512, 512])\n",
            "Parameter name: encoder.layers.3.attention_block.w_k.bias, value: torch.Size([512])\n",
            "Parameter name: encoder.layers.3.attention_block.w_v.weight, value: torch.Size([512, 512])\n",
            "Parameter name: encoder.layers.3.attention_block.w_v.bias, value: torch.Size([512])\n",
            "Parameter name: encoder.layers.3.attention_block.w_o.weight, value: torch.Size([512, 512])\n",
            "Parameter name: encoder.layers.3.attention_block.w_o.bias, value: torch.Size([512])\n",
            "Parameter name: encoder.layers.3.feed_forward_block.ff_1.weight, value: torch.Size([2048, 512])\n",
            "Parameter name: encoder.layers.3.feed_forward_block.ff_1.bias, value: torch.Size([2048])\n",
            "Parameter name: encoder.layers.3.feed_forward_block.ff_2.weight, value: torch.Size([512, 2048])\n",
            "Parameter name: encoder.layers.3.feed_forward_block.ff_2.bias, value: torch.Size([512])\n",
            "Parameter name: encoder.layers.3.residual_connections.0.norm.alpha, value: torch.Size([1])\n",
            "Parameter name: encoder.layers.3.residual_connections.0.norm.bias, value: torch.Size([1])\n",
            "Parameter name: encoder.layers.3.residual_connections.1.norm.alpha, value: torch.Size([1])\n",
            "Parameter name: encoder.layers.3.residual_connections.1.norm.bias, value: torch.Size([1])\n",
            "Parameter name: encoder.layers.4.attention_block.w_q.weight, value: torch.Size([512, 512])\n",
            "Parameter name: encoder.layers.4.attention_block.w_q.bias, value: torch.Size([512])\n",
            "Parameter name: encoder.layers.4.attention_block.w_k.weight, value: torch.Size([512, 512])\n",
            "Parameter name: encoder.layers.4.attention_block.w_k.bias, value: torch.Size([512])\n",
            "Parameter name: encoder.layers.4.attention_block.w_v.weight, value: torch.Size([512, 512])\n",
            "Parameter name: encoder.layers.4.attention_block.w_v.bias, value: torch.Size([512])\n",
            "Parameter name: encoder.layers.4.attention_block.w_o.weight, value: torch.Size([512, 512])\n",
            "Parameter name: encoder.layers.4.attention_block.w_o.bias, value: torch.Size([512])\n",
            "Parameter name: encoder.layers.4.feed_forward_block.ff_1.weight, value: torch.Size([2048, 512])\n",
            "Parameter name: encoder.layers.4.feed_forward_block.ff_1.bias, value: torch.Size([2048])\n",
            "Parameter name: encoder.layers.4.feed_forward_block.ff_2.weight, value: torch.Size([512, 2048])\n",
            "Parameter name: encoder.layers.4.feed_forward_block.ff_2.bias, value: torch.Size([512])\n",
            "Parameter name: encoder.layers.4.residual_connections.0.norm.alpha, value: torch.Size([1])\n",
            "Parameter name: encoder.layers.4.residual_connections.0.norm.bias, value: torch.Size([1])\n",
            "Parameter name: encoder.layers.4.residual_connections.1.norm.alpha, value: torch.Size([1])\n",
            "Parameter name: encoder.layers.4.residual_connections.1.norm.bias, value: torch.Size([1])\n",
            "Parameter name: encoder.layers.5.attention_block.w_q.weight, value: torch.Size([512, 512])\n",
            "Parameter name: encoder.layers.5.attention_block.w_q.bias, value: torch.Size([512])\n",
            "Parameter name: encoder.layers.5.attention_block.w_k.weight, value: torch.Size([512, 512])\n",
            "Parameter name: encoder.layers.5.attention_block.w_k.bias, value: torch.Size([512])\n",
            "Parameter name: encoder.layers.5.attention_block.w_v.weight, value: torch.Size([512, 512])\n",
            "Parameter name: encoder.layers.5.attention_block.w_v.bias, value: torch.Size([512])\n",
            "Parameter name: encoder.layers.5.attention_block.w_o.weight, value: torch.Size([512, 512])\n",
            "Parameter name: encoder.layers.5.attention_block.w_o.bias, value: torch.Size([512])\n",
            "Parameter name: encoder.layers.5.feed_forward_block.ff_1.weight, value: torch.Size([2048, 512])\n",
            "Parameter name: encoder.layers.5.feed_forward_block.ff_1.bias, value: torch.Size([2048])\n",
            "Parameter name: encoder.layers.5.feed_forward_block.ff_2.weight, value: torch.Size([512, 2048])\n",
            "Parameter name: encoder.layers.5.feed_forward_block.ff_2.bias, value: torch.Size([512])\n",
            "Parameter name: encoder.layers.5.residual_connections.0.norm.alpha, value: torch.Size([1])\n",
            "Parameter name: encoder.layers.5.residual_connections.0.norm.bias, value: torch.Size([1])\n",
            "Parameter name: encoder.layers.5.residual_connections.1.norm.alpha, value: torch.Size([1])\n",
            "Parameter name: encoder.layers.5.residual_connections.1.norm.bias, value: torch.Size([1])\n",
            "Parameter name: encoder.norm.alpha, value: torch.Size([1])\n",
            "Parameter name: encoder.norm.bias, value: torch.Size([1])\n",
            "Parameter name: decoder.layers.0.self_attention_block.w_q.weight, value: torch.Size([512, 512])\n",
            "Parameter name: decoder.layers.0.self_attention_block.w_q.bias, value: torch.Size([512])\n",
            "Parameter name: decoder.layers.0.self_attention_block.w_k.weight, value: torch.Size([512, 512])\n",
            "Parameter name: decoder.layers.0.self_attention_block.w_k.bias, value: torch.Size([512])\n",
            "Parameter name: decoder.layers.0.self_attention_block.w_v.weight, value: torch.Size([512, 512])\n",
            "Parameter name: decoder.layers.0.self_attention_block.w_v.bias, value: torch.Size([512])\n",
            "Parameter name: decoder.layers.0.self_attention_block.w_o.weight, value: torch.Size([512, 512])\n",
            "Parameter name: decoder.layers.0.self_attention_block.w_o.bias, value: torch.Size([512])\n",
            "Parameter name: decoder.layers.0.cross_attention_block.w_q.weight, value: torch.Size([512, 512])\n",
            "Parameter name: decoder.layers.0.cross_attention_block.w_q.bias, value: torch.Size([512])\n",
            "Parameter name: decoder.layers.0.cross_attention_block.w_k.weight, value: torch.Size([512, 512])\n",
            "Parameter name: decoder.layers.0.cross_attention_block.w_k.bias, value: torch.Size([512])\n",
            "Parameter name: decoder.layers.0.cross_attention_block.w_v.weight, value: torch.Size([512, 512])\n",
            "Parameter name: decoder.layers.0.cross_attention_block.w_v.bias, value: torch.Size([512])\n",
            "Parameter name: decoder.layers.0.cross_attention_block.w_o.weight, value: torch.Size([512, 512])\n",
            "Parameter name: decoder.layers.0.cross_attention_block.w_o.bias, value: torch.Size([512])\n",
            "Parameter name: decoder.layers.0.feed_forward_block.ff_1.weight, value: torch.Size([2048, 512])\n",
            "Parameter name: decoder.layers.0.feed_forward_block.ff_1.bias, value: torch.Size([2048])\n",
            "Parameter name: decoder.layers.0.feed_forward_block.ff_2.weight, value: torch.Size([512, 2048])\n",
            "Parameter name: decoder.layers.0.feed_forward_block.ff_2.bias, value: torch.Size([512])\n",
            "Parameter name: decoder.layers.0.residual_connections.0.norm.alpha, value: torch.Size([1])\n",
            "Parameter name: decoder.layers.0.residual_connections.0.norm.bias, value: torch.Size([1])\n",
            "Parameter name: decoder.layers.0.residual_connections.1.norm.alpha, value: torch.Size([1])\n",
            "Parameter name: decoder.layers.0.residual_connections.1.norm.bias, value: torch.Size([1])\n",
            "Parameter name: decoder.layers.0.residual_connections.2.norm.alpha, value: torch.Size([1])\n",
            "Parameter name: decoder.layers.0.residual_connections.2.norm.bias, value: torch.Size([1])\n",
            "Parameter name: decoder.norm.alpha, value: torch.Size([1])\n",
            "Parameter name: decoder.norm.bias, value: torch.Size([1])\n",
            "Parameter name: src_emb.emb.weight, value: torch.Size([4096, 512])\n",
            "Parameter name: tgt_emb.emb.weight, value: torch.Size([4096, 512])\n",
            "Parameter name: proj.proj.weight, value: torch.Size([4096, 512])\n",
            "Parameter name: proj.proj.bias, value: torch.Size([4096])\n"
          ]
        }
      ]
    },
    {
      "cell_type": "code",
      "source": [
        "# Calculate the total number of learnable parameters\n",
        "learnable_params = [param for param in tf.parameters() if param.requires_grad]\n",
        "total_learnable_params = sum(p.numel() for p in learnable_params)\n",
        "print(f\"Total Learnable params : {(total_learnable_params / 1000000):.1f} Million\")\n"
      ],
      "metadata": {
        "colab": {
          "base_uri": "https://localhost:8080/"
        },
        "id": "hihQk8fkGvvz",
        "outputId": "302ca934-9f6b-424e-eeb1-7af235953112"
      },
      "execution_count": 41,
      "outputs": [
        {
          "output_type": "stream",
          "name": "stdout",
          "text": [
            "Total Learnable params : 29.4 Million\n"
          ]
        }
      ]
    },
    {
      "cell_type": "markdown",
      "source": [
        "#TRAINING"
      ],
      "metadata": {
        "id": "S9Z628UBzz_T"
      }
    },
    {
      "cell_type": "code",
      "source": [
        "!pip install datasets\n",
        "!pip install transformers"
      ],
      "metadata": {
        "colab": {
          "base_uri": "https://localhost:8080/"
        },
        "collapsed": true,
        "id": "HjmfPfJxHT_e",
        "outputId": "d3a3ae13-44cf-4415-d1fc-1b444734a290"
      },
      "execution_count": 42,
      "outputs": [
        {
          "output_type": "stream",
          "name": "stdout",
          "text": [
            "Collecting datasets\n",
            "  Downloading datasets-2.21.0-py3-none-any.whl.metadata (21 kB)\n",
            "Requirement already satisfied: filelock in /usr/local/lib/python3.10/dist-packages (from datasets) (3.15.4)\n",
            "Requirement already satisfied: numpy>=1.17 in /usr/local/lib/python3.10/dist-packages (from datasets) (1.26.4)\n",
            "Collecting pyarrow>=15.0.0 (from datasets)\n",
            "  Downloading pyarrow-17.0.0-cp310-cp310-manylinux_2_28_x86_64.whl.metadata (3.3 kB)\n",
            "Collecting dill<0.3.9,>=0.3.0 (from datasets)\n",
            "  Downloading dill-0.3.8-py3-none-any.whl.metadata (10 kB)\n",
            "Requirement already satisfied: pandas in /usr/local/lib/python3.10/dist-packages (from datasets) (2.1.4)\n",
            "Requirement already satisfied: requests>=2.32.2 in /usr/local/lib/python3.10/dist-packages (from datasets) (2.32.3)\n",
            "Requirement already satisfied: tqdm>=4.66.3 in /usr/local/lib/python3.10/dist-packages (from datasets) (4.66.5)\n",
            "Collecting xxhash (from datasets)\n",
            "  Downloading xxhash-3.5.0-cp310-cp310-manylinux_2_17_x86_64.manylinux2014_x86_64.whl.metadata (12 kB)\n",
            "Collecting multiprocess (from datasets)\n",
            "  Downloading multiprocess-0.70.16-py310-none-any.whl.metadata (7.2 kB)\n",
            "Requirement already satisfied: fsspec<=2024.6.1,>=2023.1.0 in /usr/local/lib/python3.10/dist-packages (from fsspec[http]<=2024.6.1,>=2023.1.0->datasets) (2024.6.1)\n",
            "Requirement already satisfied: aiohttp in /usr/local/lib/python3.10/dist-packages (from datasets) (3.10.5)\n",
            "Requirement already satisfied: huggingface-hub>=0.21.2 in /usr/local/lib/python3.10/dist-packages (from datasets) (0.23.5)\n",
            "Requirement already satisfied: packaging in /usr/local/lib/python3.10/dist-packages (from datasets) (24.1)\n",
            "Requirement already satisfied: pyyaml>=5.1 in /usr/local/lib/python3.10/dist-packages (from datasets) (6.0.2)\n",
            "Requirement already satisfied: aiohappyeyeballs>=2.3.0 in /usr/local/lib/python3.10/dist-packages (from aiohttp->datasets) (2.4.0)\n",
            "Requirement already satisfied: aiosignal>=1.1.2 in /usr/local/lib/python3.10/dist-packages (from aiohttp->datasets) (1.3.1)\n",
            "Requirement already satisfied: attrs>=17.3.0 in /usr/local/lib/python3.10/dist-packages (from aiohttp->datasets) (24.2.0)\n",
            "Requirement already satisfied: frozenlist>=1.1.1 in /usr/local/lib/python3.10/dist-packages (from aiohttp->datasets) (1.4.1)\n",
            "Requirement already satisfied: multidict<7.0,>=4.5 in /usr/local/lib/python3.10/dist-packages (from aiohttp->datasets) (6.0.5)\n",
            "Requirement already satisfied: yarl<2.0,>=1.0 in /usr/local/lib/python3.10/dist-packages (from aiohttp->datasets) (1.9.4)\n",
            "Requirement already satisfied: async-timeout<5.0,>=4.0 in /usr/local/lib/python3.10/dist-packages (from aiohttp->datasets) (4.0.3)\n",
            "Requirement already satisfied: typing-extensions>=3.7.4.3 in /usr/local/lib/python3.10/dist-packages (from huggingface-hub>=0.21.2->datasets) (4.12.2)\n",
            "Requirement already satisfied: charset-normalizer<4,>=2 in /usr/local/lib/python3.10/dist-packages (from requests>=2.32.2->datasets) (3.3.2)\n",
            "Requirement already satisfied: idna<4,>=2.5 in /usr/local/lib/python3.10/dist-packages (from requests>=2.32.2->datasets) (3.8)\n",
            "Requirement already satisfied: urllib3<3,>=1.21.1 in /usr/local/lib/python3.10/dist-packages (from requests>=2.32.2->datasets) (2.0.7)\n",
            "Requirement already satisfied: certifi>=2017.4.17 in /usr/local/lib/python3.10/dist-packages (from requests>=2.32.2->datasets) (2024.7.4)\n",
            "Requirement already satisfied: python-dateutil>=2.8.2 in /usr/local/lib/python3.10/dist-packages (from pandas->datasets) (2.8.2)\n",
            "Requirement already satisfied: pytz>=2020.1 in /usr/local/lib/python3.10/dist-packages (from pandas->datasets) (2024.1)\n",
            "Requirement already satisfied: tzdata>=2022.1 in /usr/local/lib/python3.10/dist-packages (from pandas->datasets) (2024.1)\n",
            "Requirement already satisfied: six>=1.5 in /usr/local/lib/python3.10/dist-packages (from python-dateutil>=2.8.2->pandas->datasets) (1.16.0)\n",
            "Downloading datasets-2.21.0-py3-none-any.whl (527 kB)\n",
            "\u001b[2K   \u001b[90m━━━━━━━━━━━━━━━━━━━━━━━━━━━━━━━━━━━━━━━━\u001b[0m \u001b[32m527.3/527.3 kB\u001b[0m \u001b[31m25.2 MB/s\u001b[0m eta \u001b[36m0:00:00\u001b[0m\n",
            "\u001b[?25hDownloading dill-0.3.8-py3-none-any.whl (116 kB)\n",
            "\u001b[2K   \u001b[90m━━━━━━━━━━━━━━━━━━━━━━━━━━━━━━━━━━━━━━━━\u001b[0m \u001b[32m116.3/116.3 kB\u001b[0m \u001b[31m7.7 MB/s\u001b[0m eta \u001b[36m0:00:00\u001b[0m\n",
            "\u001b[?25hDownloading pyarrow-17.0.0-cp310-cp310-manylinux_2_28_x86_64.whl (39.9 MB)\n",
            "\u001b[2K   \u001b[90m━━━━━━━━━━━━━━━━━━━━━━━━━━━━━━━━━━━━━━━━\u001b[0m \u001b[32m39.9/39.9 MB\u001b[0m \u001b[31m17.6 MB/s\u001b[0m eta \u001b[36m0:00:00\u001b[0m\n",
            "\u001b[?25hDownloading multiprocess-0.70.16-py310-none-any.whl (134 kB)\n",
            "\u001b[2K   \u001b[90m━━━━━━━━━━━━━━━━━━━━━━━━━━━━━━━━━━━━━━━━\u001b[0m \u001b[32m134.8/134.8 kB\u001b[0m \u001b[31m9.6 MB/s\u001b[0m eta \u001b[36m0:00:00\u001b[0m\n",
            "\u001b[?25hDownloading xxhash-3.5.0-cp310-cp310-manylinux_2_17_x86_64.manylinux2014_x86_64.whl (194 kB)\n",
            "\u001b[2K   \u001b[90m━━━━━━━━━━━━━━━━━━━━━━━━━━━━━━━━━━━━━━━━\u001b[0m \u001b[32m194.1/194.1 kB\u001b[0m \u001b[31m12.2 MB/s\u001b[0m eta \u001b[36m0:00:00\u001b[0m\n",
            "\u001b[?25hInstalling collected packages: xxhash, pyarrow, dill, multiprocess, datasets\n",
            "  Attempting uninstall: pyarrow\n",
            "    Found existing installation: pyarrow 14.0.2\n",
            "    Uninstalling pyarrow-14.0.2:\n",
            "      Successfully uninstalled pyarrow-14.0.2\n",
            "\u001b[31mERROR: pip's dependency resolver does not currently take into account all the packages that are installed. This behaviour is the source of the following dependency conflicts.\n",
            "cudf-cu12 24.4.1 requires pyarrow<15.0.0a0,>=14.0.1, but you have pyarrow 17.0.0 which is incompatible.\n",
            "ibis-framework 8.0.0 requires pyarrow<16,>=2, but you have pyarrow 17.0.0 which is incompatible.\u001b[0m\u001b[31m\n",
            "\u001b[0mSuccessfully installed datasets-2.21.0 dill-0.3.8 multiprocess-0.70.16 pyarrow-17.0.0 xxhash-3.5.0\n",
            "Requirement already satisfied: transformers in /usr/local/lib/python3.10/dist-packages (4.42.4)\n",
            "Requirement already satisfied: filelock in /usr/local/lib/python3.10/dist-packages (from transformers) (3.15.4)\n",
            "Requirement already satisfied: huggingface-hub<1.0,>=0.23.2 in /usr/local/lib/python3.10/dist-packages (from transformers) (0.23.5)\n",
            "Requirement already satisfied: numpy<2.0,>=1.17 in /usr/local/lib/python3.10/dist-packages (from transformers) (1.26.4)\n",
            "Requirement already satisfied: packaging>=20.0 in /usr/local/lib/python3.10/dist-packages (from transformers) (24.1)\n",
            "Requirement already satisfied: pyyaml>=5.1 in /usr/local/lib/python3.10/dist-packages (from transformers) (6.0.2)\n",
            "Requirement already satisfied: regex!=2019.12.17 in /usr/local/lib/python3.10/dist-packages (from transformers) (2024.5.15)\n",
            "Requirement already satisfied: requests in /usr/local/lib/python3.10/dist-packages (from transformers) (2.32.3)\n",
            "Requirement already satisfied: safetensors>=0.4.1 in /usr/local/lib/python3.10/dist-packages (from transformers) (0.4.4)\n",
            "Requirement already satisfied: tokenizers<0.20,>=0.19 in /usr/local/lib/python3.10/dist-packages (from transformers) (0.19.1)\n",
            "Requirement already satisfied: tqdm>=4.27 in /usr/local/lib/python3.10/dist-packages (from transformers) (4.66.5)\n",
            "Requirement already satisfied: fsspec>=2023.5.0 in /usr/local/lib/python3.10/dist-packages (from huggingface-hub<1.0,>=0.23.2->transformers) (2024.6.1)\n",
            "Requirement already satisfied: typing-extensions>=3.7.4.3 in /usr/local/lib/python3.10/dist-packages (from huggingface-hub<1.0,>=0.23.2->transformers) (4.12.2)\n",
            "Requirement already satisfied: charset-normalizer<4,>=2 in /usr/local/lib/python3.10/dist-packages (from requests->transformers) (3.3.2)\n",
            "Requirement already satisfied: idna<4,>=2.5 in /usr/local/lib/python3.10/dist-packages (from requests->transformers) (3.8)\n",
            "Requirement already satisfied: urllib3<3,>=1.21.1 in /usr/local/lib/python3.10/dist-packages (from requests->transformers) (2.0.7)\n",
            "Requirement already satisfied: certifi>=2017.4.17 in /usr/local/lib/python3.10/dist-packages (from requests->transformers) (2024.7.4)\n"
          ]
        }
      ]
    },
    {
      "cell_type": "code",
      "source": [
        "from datasets import load_dataset\n",
        "from tokenizers import Tokenizer\n",
        "from tokenizers.models import WordLevel\n",
        "from tokenizers.trainers import WordLevelTrainer\n",
        "from tokenizers.pre_tokenizers import Whitespace\n",
        "from pathlib import Path\n",
        "\n",
        "from torch.utils.data import Dataset, DataLoader, random_split"
      ],
      "metadata": {
        "id": "wdyiVXh-z-He"
      },
      "execution_count": 43,
      "outputs": []
    },
    {
      "cell_type": "code",
      "source": [
        "def get_all_sentences(ds, lang):\n",
        "  for item in ds:\n",
        "    yield item['translation'][lang]\n",
        "\n",
        "\n",
        "def get_or_build_tokenizer(config, ds, lang):\n",
        "  tokenizer_path = Path(config['tokenizer_file'].format(lang))\n",
        "  if not Path.exists(tokenizer_path):\n",
        "    tokenizer = Tokenizer(WordLevel(unk_token='[UNK]'))\n",
        "    tokenizer.pre_tokenizer = Whitespace()\n",
        "    trainer = WordLevelTrainer(special_tokens=[\"[UNK]\", \"[PAD]\", \"[EOS]\"], min_frequency=2)\n",
        "    tokenizer.train_from_iterator(get_all_sentences(ds, lang), trainer=trainer)\n",
        "    tokenizer.save(str(tokenizer_path))\n",
        "\n",
        "  else:\n",
        "    tokenizer = Tokenizer.from_file(str(tokenizer_path))\n",
        "\n",
        "  return tokenizer"
      ],
      "metadata": {
        "id": "opfe3feO0QjA"
      },
      "execution_count": 44,
      "outputs": []
    },
    {
      "cell_type": "code",
      "source": [
        "class BilingialDataset(Dataset):\n",
        "  def __init__(self, ds, tokenizer_src, tokenizer_tgt, src_lang, tgt_lang, seq_len):\n",
        "    super().__init__()\n",
        "\n",
        "    self.ds = ds\n",
        "    self.tokenizer_src = tokenizer_src\n",
        "    self.tokenizer_tgt = tokenizer_tgt\n",
        "    self.src_lang = src_lang\n",
        "    self.tgt_lang = tgt_lang\n",
        "\n",
        "\n",
        "    self.sos_token = torch.Tensor([tokenizer_src.token_to_id(['[SOS]'])], dtype=torch.int64)\n",
        "    self.eos_token = torch.Tensor([tokenizer_src.token_to_id(['[EOS]'])], dtype=torch.int64)\n",
        "    self.pad_token = torch.Tensor([tokenizer_src.token_to_id(['[PAD]'])], dtype=torch.int64)\n",
        "\n",
        "\n",
        "  def __len__(self):\n",
        "    return len(self.ds)\n",
        "\n",
        "  def __getitem__(self, index: int):\n",
        "    src_target_pair = self.ds[index]\n",
        "    src_text = src_target_pair['translation'][self.src_lang]\n",
        "    tgt_text = src_target_pair['translation'][self.tgt_lang]\n",
        "\n",
        "    enc_input_tokens =self.tokenizer_src.encode(src_text).ids\n",
        "    dec_input_tokens = self.tokenizer_tgt.encode(tgt_text).ids\n",
        "\n",
        "    enc_num_padding_tokens = self.seq_len - len(enc_input_tokens) - 2\n",
        "    dec_num_padding_tokens = self.seq_len - len(dec_input_tokens) - 1\n",
        "\n",
        "    if enc_num_padding_tokens < 0 or dec_num_padding_tokens < 0:\n",
        "      raise ValueError(\"Sentence is too long\")\n",
        "\n",
        "    encoder_input = torch.cat(\n",
        "\n",
        "                              [self.sos_token,\n",
        "                               torch.tensor(enc_input_tokens, dtype=torch.int64),\n",
        "                               self.eos_token,\n",
        "                               torch.tensor([self.pad_token] * enc_num_padding_tokens, dtype=torch.int64)]\n",
        "    )\n",
        "\n",
        "    decoder_input = torch.cat(\n",
        "\n",
        "                              [self.sos_token,\n",
        "                               torch.tensor(dec_input_tokens, dtype=torch.int64),\n",
        "                               torch.tensor([self.pad_token] * dec_num_padding_tokens, dtype=torch.int64)]\n",
        "    )\n",
        "\n",
        "    label = torch.cat(\n",
        "        [\n",
        "            torch.tensor(dec_input_tokens, dtype=torch.int64),\n",
        "            self.eos_token,\n",
        "            torch.tensor([self.pad_token] * dec_num_padding_tokens, dtype=torch.int64)\n",
        "        ]\n",
        "    )\n",
        "\n",
        "\n",
        "    assert encoder_input.size(0) == self.seq_len\n",
        "    assert decoder_input.size(0) == self.seq_len\n",
        "    assert label.size(0) == self.seq_len\n",
        "\n",
        "\n",
        "    return {\"encoder_input\": encoder_input,\n",
        "            \"decoder_input\": decoder_input,\n",
        "            \"encoder_mask\": (encoder_input != self.pad_token).unsqueeze(0).unsqueeze(0).int(),\n",
        "            \"decoder_mask\": (decoder_input != self.pad_token).unsqueeze(0).unsuqeeze(0).int() & casual_mask(decoder_input.size(0)),\n",
        "            \"label\":label,\n",
        "            \"src_text\": src_text,\n",
        "            \"tgt_text\": tgt_text}\n",
        "\n",
        "\n",
        "\n",
        "\n"
      ],
      "metadata": {
        "id": "rKBcNcIh3S-J"
      },
      "execution_count": 45,
      "outputs": []
    },
    {
      "cell_type": "code",
      "source": [
        "def casual_mask(size):\n",
        "  mask = torch.triu(torch.ones(1, size, size),diagonal=1).type(torch.int)\n",
        "  return mask == 0"
      ],
      "metadata": {
        "id": "wfMZ5FWv7bwV"
      },
      "execution_count": 46,
      "outputs": []
    },
    {
      "cell_type": "code",
      "source": [
        "def get_ds(config):\n",
        "  ds_raw = load_dataset('opus_books', f'{config[\"lang_src\"]}-{config[\"lang_tgt\"]}', split='train')\n",
        "\n",
        "  tokenizer_src = get_or_build_tokenizer(config, ds_raw, config['lang_src'])\n",
        "  tokenizer_tgt = get_or_build_tokenizer(config, ds_raw, config['lang_tgt'])\n",
        "\n",
        "  train_ds_size = int(0.9 * len(ds_raw))\n",
        "  val_ds_size = len(ds_raw) - train_ds_size\n",
        "  train_ds_raw, val_ds_raw = random_split(ds_raw, [train_ds_size, val_ds_size])\n",
        "\n",
        "  train_ds = BilingialDataset(train_ds_raw, tokenizer_src, tokenizer_tgt, config['lang_src'], config['lang_tgt'], config['seq_len'])\n",
        "  val_ds = BilingialDataset(val_ds_raw, tokenizer_src, tokenizer_tgt, config['lang_src'], config['lang_tgt'], config['seq_len'])\n",
        "\n",
        "  max_len_src = 0\n",
        "  max_len_tgt = 0\n",
        "\n",
        "  for item in ds_raw:\n",
        "    src_ids = tokenizer_src.encode(item['translation'][config['lang_src']]).ids\n",
        "    tgt_ids = tokenizer_tgt.encode(item['translation'][config['lang_tgt']]).ids\n",
        "    max_len_src = max(max_len_src, len(src_ids))\n",
        "    max_len_tgt = max(max_len_tgt, len(tgt_ids))\n",
        "\n",
        "\n",
        "  print(\"Max length of source: \", max_len_src)\n",
        "  print(\"Max length of tgt: \", max_len_tgt)\n",
        "\n",
        "\n",
        "  train_dataloader = DataLoader(train_ds, batch_size=config['batch_size'], shuffle=True)\n",
        "  val_dataloader = DataLoader(val_ds, batch_size=1, shuffle=True)\n",
        "\n",
        "\n",
        "  return train_dataloader, val_dataloader, tokenizer_src, tokenizer_tgt\n",
        "\n",
        "\n",
        "\n",
        "\n",
        "\n"
      ],
      "metadata": {
        "id": "Iv_-5WCd1wDF"
      },
      "execution_count": 47,
      "outputs": []
    },
    {
      "cell_type": "code",
      "source": [
        "def get_model(config, vocab_src_len, vocab_tgt_len):\n",
        "  model = build_transformer(vocab_src_len, vocab_tgt_len, config['seq_len'], config['seq_len'], config['d_model'])\n",
        "\n",
        "  return model"
      ],
      "metadata": {
        "id": "eNczjsoXEsCh"
      },
      "execution_count": 48,
      "outputs": []
    },
    {
      "cell_type": "code",
      "source": [
        "from pathlib import Path\n",
        "\n",
        "def get_config():\n",
        "    return {\n",
        "        \"batch_size\": 8,\n",
        "        \"num_epochs\": 20,\n",
        "        \"lr\": 10**-4,\n",
        "        \"seq_len\": 350,\n",
        "        \"d_model\": 512,\n",
        "        \"datasource\": 'opus_books',\n",
        "        \"lang_src\": \"en\",\n",
        "        \"lang_tgt\": \"it\",\n",
        "        \"model_folder\": \"weights\",\n",
        "        \"model_basename\": \"tmodel_\",\n",
        "        \"preload\": \"latest\",\n",
        "        \"tokenizer_file\": \"tokenizer_{0}.json\",\n",
        "        \"experiment_name\": \"runs/tmodel\"\n",
        "    }\n",
        "\n",
        "def get_weights_file_path(config, epoch: str):\n",
        "    model_folder = f\"{config['datasource']}_{config['model_folder']}\"\n",
        "    model_filename = f\"{config['model_basename']}{epoch}.pt\"\n",
        "    return str(Path('.') / model_folder / model_filename)\n",
        "\n",
        "# Find the latest weights file in the weights folder\n",
        "def latest_weights_file_path(config):\n",
        "    model_folder = f\"{config['datasource']}_{config['model_folder']}\"\n",
        "    model_filename = f\"{config['model_basename']}*\"\n",
        "    weights_files = list(Path(model_folder).glob(model_filename))\n",
        "    if len(weights_files) == 0:\n",
        "        return None\n",
        "    weights_files.sort()\n",
        "    return str(weights_files[-1])"
      ],
      "metadata": {
        "id": "aihrWJubS7nR"
      },
      "execution_count": 49,
      "outputs": []
    },
    {
      "cell_type": "code",
      "source": [
        "from torch.utils.tensorboard import SummaryWriter\n",
        "import tqdm"
      ],
      "metadata": {
        "id": "DHEOsA7NnfNq"
      },
      "execution_count": 51,
      "outputs": []
    },
    {
      "cell_type": "code",
      "source": [
        "def train_model(config):\n",
        "  device = torch.device('cuda' if torch.cuda.is_available() else 'cpu')\n",
        "  print(\"Using device: \", device)\n",
        "\n",
        "  Path(config['model_folder']).mkdir(parents=True, exist_ok=True)\n",
        "\n",
        "  train_dataloader, val_dataloader, tokenizer_src, tokenizer_tgt = get_ds(config)\n",
        "  model = get_model(config, tokenizer_src.get_vocab_size(), tokenizer_tgt.get_vocab_size()).to(device)\n",
        "  writer = SummaryWriter(config['experiment_name'])\n",
        "\n",
        "\n",
        "  optimizer = torch.optim.Adam(model.parameters(), lr=config['lr'], eps=1e-9)\n",
        "\n",
        "  initial_epoch = 0\n",
        "  global_step = 0\n",
        "  if config['preload']:\n",
        "    model_filename = get_weights_file_path(config, config['preload'])\n",
        "    print(f\"pre-loading model: {model_filename}\")\n",
        "    state = torch.load(model_filename)\n",
        "    initial_epoch = state[\"epoch\"] + 1\n",
        "    optimizer.load_state_dict(state['optimizer_state_dict'])\n",
        "    global_step = state['global_step']\n",
        "\n",
        "\n",
        "  loss_fn = nn.CrossEntropyLoss(ignore_index=tokenizer_src.token_to_id('[PAD]'), label_smoothing=0.1).to(device)\n",
        "\n",
        "  for epoch in range(initial_epoch, config['num_epochs']):\n",
        "    model.train()\n",
        "    batch_iterator = tqdm(train_dataloader, desc=f'Processing epoch: {epoch:02d}')\n",
        "\n",
        "    for batch in batch_iterator:\n",
        "      encoder_input = batch['encoder_input'].to(device)\n",
        "      decoder_input = batch['decoder_input'].to(device)\n",
        "      encoder_mask = batch['encoder_mask'].to(device)\n",
        "      decoder_mask = batch['decoder_mask'].to(device)\n",
        "\n",
        "      encoder_output = model.encode(encoder_input, encoder_mask)\n",
        "      decoder_output = model.decode(encoder_output, decoder_input, decoder_mask)\n",
        "      proj_output = model.project(decoder_output)\n",
        "\n",
        "      label = batch['label'].to(device)\n",
        "      loss = loss_fn(proj_output.view(-1, tokenizer_tgt.get_vocab_size()), label.view(-1))\n",
        "\n",
        "      batch_iterator.set_postfix({f\"loss\": f\"{loss.item:6.3f}\"})\n",
        "      writer.add_scaler(\"train loss\", loss.item(), global_step)\n",
        "      writer.flush()\n",
        "\n",
        "      loss.backward()\n",
        "      optimizer.step()\n",
        "      optimizer.zero_grad()\n",
        "\n",
        "      global_step+=1\n",
        "\n",
        "    model_filename = get_weights_file_path(config, f'{epoch:02d}')\n",
        "\n",
        "    torch.save({\n",
        "\n",
        "                'epoch':epoch,\n",
        "                'model_state_dict':model.state_dict(),\n",
        "                'optimizer_state_dict':optimizer.state_dict(),\n",
        "                'global_step': global_step}, model_filename\n",
        "\n",
        "    )"
      ],
      "metadata": {
        "id": "nwNX6sUgmBPZ"
      },
      "execution_count": 52,
      "outputs": []
    },
    {
      "cell_type": "code",
      "source": [],
      "metadata": {
        "id": "JRaUp2GpslrE"
      },
      "execution_count": null,
      "outputs": []
    }
  ]
}