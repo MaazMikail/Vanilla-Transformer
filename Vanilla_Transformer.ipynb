{
  "nbformat": 4,
  "nbformat_minor": 0,
  "metadata": {
    "colab": {
      "provenance": [],
      "authorship_tag": "ABX9TyNOY0i8QkVogWlnooC8+UNM",
      "include_colab_link": true
    },
    "kernelspec": {
      "name": "python3",
      "display_name": "Python 3"
    },
    "language_info": {
      "name": "python"
    }
  },
  "cells": [
    {
      "cell_type": "markdown",
      "metadata": {
        "id": "view-in-github",
        "colab_type": "text"
      },
      "source": [
        "<a href=\"https://colab.research.google.com/github/MaazMikail/Vanilla-Transformer-Notebook/blob/main/Vanilla_Transformer.ipynb\" target=\"_parent\"><img src=\"https://colab.research.google.com/assets/colab-badge.svg\" alt=\"Open In Colab\"/></a>"
      ]
    },
    {
      "cell_type": "code",
      "execution_count": 1,
      "metadata": {
        "id": "l79Gxm8X1Wm6"
      },
      "outputs": [],
      "source": [
        "import torch\n",
        "import torch.nn as nn\n",
        "import math"
      ]
    },
    {
      "cell_type": "code",
      "source": [
        "class InputEmbeddings(nn.Module):\n",
        "  def __init__(self, d_model: int, vocab_size: int):\n",
        "    super().__init__()\n",
        "    self.d_model = d_model\n",
        "    self.vocab_size = vocab_size\n",
        "    self.emb = nn.Embedding(vocab_size, d_model)\n",
        "\n",
        "  def forward(self, x):\n",
        "    return self.emb(x) + torch.sqrt(torch.tensor(self.d_model))"
      ],
      "metadata": {
        "id": "qmOBRWJ0Cogz"
      },
      "execution_count": 2,
      "outputs": []
    },
    {
      "cell_type": "code",
      "source": [
        "embed = InputEmbeddings(512, 4096)\n",
        "res = embed(torch.tensor([143, 891, 1000, 482, 18, 12]))\n",
        "res.shape"
      ],
      "metadata": {
        "colab": {
          "base_uri": "https://localhost:8080/"
        },
        "id": "EovB_HJgIe7G",
        "outputId": "7ca04978-9ab8-46af-e7e1-c479d2dbc858"
      },
      "execution_count": 3,
      "outputs": [
        {
          "output_type": "execute_result",
          "data": {
            "text/plain": [
              "torch.Size([6, 512])"
            ]
          },
          "metadata": {},
          "execution_count": 3
        }
      ]
    },
    {
      "cell_type": "code",
      "source": [
        "class PositionalEncoding(nn.Module):\n",
        "\n",
        "  def __init__(self, d_model: int, seq_len: int, dropout: float):\n",
        "    super().__init__()\n",
        "    self.d_model = d_model\n",
        "    self.seq_len = seq_len\n",
        "    self.dropout = nn.Dropout()\n",
        "\n",
        "    self.pe = torch.zeros(self.seq_len, self.d_model)\n",
        "\n",
        "    position = torch.arange(0, seq_len, dtype=torch.float).unsqueeze(1)\n",
        "    div_term = torch.exp(torch.arange(0,self.d_model,2).float() * (-math.log(10000.0)/self.d_model))\n",
        "\n",
        "    self.pe[:, 0::2] = torch.sin(position * div_term)\n",
        "    self.pe[:, 1::2] = torch.cos(position * div_term)\n",
        "\n",
        "    self.pe = self.pe.unsqueeze(0)\n",
        "    self.pe.requires_grad = False\n",
        "\n",
        "\n",
        "    self.register_buffer('pos', self.pe)\n",
        "\n",
        "\n",
        "  def forward(self, x):\n",
        "\n",
        "\n",
        "    x = x + self.pe\n",
        "\n",
        "    return self.dropout(x)\n",
        "\n"
      ],
      "metadata": {
        "id": "WoqVTf5AI4QS"
      },
      "execution_count": 40,
      "outputs": []
    },
    {
      "cell_type": "code",
      "source": [
        "pos = PositionalEncoding(512, 6,0)\n",
        "#res = res.unsqueeze(0)\n",
        "print(res.shape)"
      ],
      "metadata": {
        "colab": {
          "base_uri": "https://localhost:8080/"
        },
        "id": "bguZSJffN1Dv",
        "outputId": "e1fd8109-3d86-43f6-fcbe-ba514198ee1e"
      },
      "execution_count": 5,
      "outputs": [
        {
          "output_type": "stream",
          "name": "stdout",
          "text": [
            "torch.Size([1, 6, 512])\n",
            "torch.Size([6, 512])\n"
          ]
        }
      ]
    },
    {
      "cell_type": "code",
      "source": [
        "embs_pos = pos(res)\n",
        "embs_pos.shape"
      ],
      "metadata": {
        "colab": {
          "base_uri": "https://localhost:8080/"
        },
        "id": "lED7Nu3rODk5",
        "outputId": "9cba5d5b-0bcb-4249-baa9-2935009bf39d"
      },
      "execution_count": 6,
      "outputs": [
        {
          "output_type": "execute_result",
          "data": {
            "text/plain": [
              "torch.Size([1, 6, 512])"
            ]
          },
          "metadata": {},
          "execution_count": 6
        }
      ]
    },
    {
      "cell_type": "code",
      "source": [
        "class LayerNorm(nn.Module):\n",
        "\n",
        "  def __init__(self, eps: float = 1e-6):\n",
        "    super().__init__()\n",
        "    self.eps = eps\n",
        "    self.alpha = nn.Parameter(torch.ones(1)) # mult\n",
        "    self.bias = nn.Parameter(torch.ones(1)) # added\n",
        "\n",
        "  def forward(self, x):\n",
        "    mean = x.mean(dim=-1, keepdim=True)\n",
        "    std = x.std(dim = -1, keepdim=True)\n",
        "    return self.alpha * (x- mean) / (std + self.eps) + self.bias\n",
        "\n"
      ],
      "metadata": {
        "id": "JtG0Qr0DPFxq"
      },
      "execution_count": 7,
      "outputs": []
    },
    {
      "cell_type": "code",
      "source": [
        "ln = LayerNorm()\n",
        "emb_norm = ln(embs_pos)\n",
        "emb_norm.shape"
      ],
      "metadata": {
        "colab": {
          "base_uri": "https://localhost:8080/"
        },
        "id": "wmRkWpNXSD6w",
        "outputId": "9c87e1d5-1c84-40a0-b86a-8dc06d22e487"
      },
      "execution_count": 8,
      "outputs": [
        {
          "output_type": "execute_result",
          "data": {
            "text/plain": [
              "torch.Size([1, 6, 512])"
            ]
          },
          "metadata": {},
          "execution_count": 8
        }
      ]
    },
    {
      "cell_type": "code",
      "source": [
        "emb_norm[:, :, -1].mean()"
      ],
      "metadata": {
        "colab": {
          "base_uri": "https://localhost:8080/"
        },
        "id": "8vmkdLX1SMXS",
        "outputId": "2d723d35-d12e-4c7b-b2ee-ee4254b34061"
      },
      "execution_count": 47,
      "outputs": [
        {
          "output_type": "execute_result",
          "data": {
            "text/plain": [
              "tensor(0.6790, grad_fn=<MeanBackward0>)"
            ]
          },
          "metadata": {},
          "execution_count": 47
        }
      ]
    },
    {
      "cell_type": "code",
      "source": [
        "embs_pos[:, :, -1].mean()"
      ],
      "metadata": {
        "colab": {
          "base_uri": "https://localhost:8080/"
        },
        "id": "uOckU44rS5Ps",
        "outputId": "dc1ddce9-295a-4e36-8461-852b9653285e"
      },
      "execution_count": 49,
      "outputs": [
        {
          "output_type": "execute_result",
          "data": {
            "text/plain": [
              "tensor(15.7962, grad_fn=<MeanBackward0>)"
            ]
          },
          "metadata": {},
          "execution_count": 49
        }
      ]
    },
    {
      "cell_type": "code",
      "source": [
        "class FeedForward(nn.Module):\n",
        "\n",
        "  def __init__(self, d_model: int, d_ff:int, dropout: float):\n",
        "    super().__init__()\n",
        "    self.ff_1 = nn.Linear(d_model, d_ff)\n",
        "    self.ff_2 = nn.Linear(d_ff, d_model)\n",
        "    self.dropout = nn.Dropout(dropout)\n",
        "\n",
        "  def forward(self, x):\n",
        "    return self.ff_2(self.dropout(nn.functional.relu(self.ff_1(x))))"
      ],
      "metadata": {
        "id": "LeKs4GEdS8KF"
      },
      "execution_count": 9,
      "outputs": []
    },
    {
      "cell_type": "code",
      "source": [
        "ff = FeedForward(512, 2048, 0)\n",
        "ff_out = ff(embs_pos)\n",
        "ff_out.shape"
      ],
      "metadata": {
        "colab": {
          "base_uri": "https://localhost:8080/"
        },
        "id": "62OiPUQhU-XA",
        "outputId": "2cbb65d5-51cd-404f-9747-0d9eaf0ae404"
      },
      "execution_count": 10,
      "outputs": [
        {
          "output_type": "execute_result",
          "data": {
            "text/plain": [
              "torch.Size([1, 6, 512])"
            ]
          },
          "metadata": {},
          "execution_count": 10
        }
      ]
    },
    {
      "cell_type": "code",
      "source": [
        "class MultiHeadAttentionBlock(nn.Module):\n",
        "\n",
        "  def __init__(self, d_model: int, h: int, dropout: float):\n",
        "    super().__init__()\n",
        "    self.d_model = d_model\n",
        "    self.h = h\n",
        "    self.dropout = nn.Dropout()\n",
        "    assert self.d_model % h == 0, \"d_model is not divisible by h\"\n",
        "    self.d_k = d_model // h\n",
        "\n",
        "    self.w_q, self.w_k, self.w_v = [nn.Linear(d_model, d_model) for _ in range(3)]\n",
        "\n",
        "    self.w_o = nn.Linear(d_model, d_model)\n",
        "\n",
        "  @staticmethod\n",
        "  def attention(query, key, value, mask, dropout: nn.Dropout):\n",
        "\n",
        "    d_k = query.shape[-1]\n",
        "    attention_scores = (query @ key.transpose(-2,-1)) / math.sqrt(d_k)\n",
        "    if mask is not None:\n",
        "      attention_scores.masked_fill_(mask==0, -1e9)\n",
        "    attention_scores = attention_scores.softmax(dim=-1)\n",
        "    if dropout is not None:\n",
        "      attention_scores = dropout(attention_scores)\n",
        "\n",
        "    return (attention_scores @ value), attention_scores\n",
        "\n",
        "  def forward(self, q, k, v, mask):\n",
        "    query = self.w_q(q)\n",
        "    key = self.w_k(k)\n",
        "    value = self.w_v(v)\n",
        "\n",
        "    query = query.view(query.shape[0], query.shape[1], self.h, self.d_k).transpose(1,2)\n",
        "    key = key.view(key.shape[0], key.shape[1], self.h, self.d_k).transpose(1,2)\n",
        "    value = value.view(value.shape[0], value.shape[1], self.h, self.d_k).transpose(1,2)\n",
        "\n",
        "    x, self.attention_scores = MultiHeadAttentionBlock.attention(query, key, value, mask, self.dropout)\n",
        "\n",
        "    x = x.transpose(1, 2).contiguous().view(x.shape[0], -1, self.h*self.d_k)\n",
        "\n",
        "    return self.w_o(x)\n"
      ],
      "metadata": {
        "id": "GfG_ZuMOVGKv"
      },
      "execution_count": 11,
      "outputs": []
    },
    {
      "cell_type": "code",
      "source": [
        "mah = MultiHeadAttentionBlock(512, 8, 0)\n",
        "mah.w_q.weight.shape, mah.w_q.bias.shape"
      ],
      "metadata": {
        "colab": {
          "base_uri": "https://localhost:8080/"
        },
        "id": "1XQnI3Mbo6oh",
        "outputId": "27db67e7-da6c-4931-89b9-8df13d1dc9ff"
      },
      "execution_count": 12,
      "outputs": [
        {
          "output_type": "execute_result",
          "data": {
            "text/plain": [
              "(torch.Size([512, 512]), torch.Size([512]))"
            ]
          },
          "metadata": {},
          "execution_count": 12
        }
      ]
    },
    {
      "cell_type": "code",
      "source": [
        "mah_res = mah(embs_pos, embs_pos, embs_pos, None)\n",
        "mah_res.shape"
      ],
      "metadata": {
        "colab": {
          "base_uri": "https://localhost:8080/"
        },
        "id": "Es_ju9GrpBJY",
        "outputId": "7521c8d7-5b81-472f-c412-5c03e2c819f4"
      },
      "execution_count": 13,
      "outputs": [
        {
          "output_type": "execute_result",
          "data": {
            "text/plain": [
              "torch.Size([1, 6, 512])"
            ]
          },
          "metadata": {},
          "execution_count": 13
        }
      ]
    },
    {
      "cell_type": "code",
      "source": [
        "x, scores = MultiHeadAttentionBlock.attention(mah_res, mah_res, mah_res, None, None)"
      ],
      "metadata": {
        "id": "ZUbpF7MVwlKr"
      },
      "execution_count": 76,
      "outputs": []
    },
    {
      "cell_type": "code",
      "source": [
        "x.shape, x.transpose_(2, 1).contiguous().view(x.shape[0], x.shape[1], 8*64).shape"
      ],
      "metadata": {
        "colab": {
          "base_uri": "https://localhost:8080/"
        },
        "id": "J8UZlLnQwnd3",
        "outputId": "7f2432b5-dc68-4c7a-99ab-6799849464aa"
      },
      "execution_count": 92,
      "outputs": [
        {
          "output_type": "execute_result",
          "data": {
            "text/plain": [
              "(torch.Size([1, 8, 6, 64]), torch.Size([1, 6, 512]))"
            ]
          },
          "metadata": {},
          "execution_count": 92
        }
      ]
    },
    {
      "cell_type": "code",
      "source": [
        "scores.shape"
      ],
      "metadata": {
        "colab": {
          "base_uri": "https://localhost:8080/"
        },
        "id": "fDnMZFFNxAew",
        "outputId": "049dbe44-2492-4ce8-b842-c23682fef00b"
      },
      "execution_count": 78,
      "outputs": [
        {
          "output_type": "execute_result",
          "data": {
            "text/plain": [
              "torch.Size([1, 8, 6, 6])"
            ]
          },
          "metadata": {},
          "execution_count": 78
        }
      ]
    },
    {
      "cell_type": "code",
      "source": [
        "x.shape"
      ],
      "metadata": {
        "colab": {
          "base_uri": "https://localhost:8080/"
        },
        "id": "lVL5z5PMyRUj",
        "outputId": "8f947cae-2139-4487-afde-13fa06f539d2"
      },
      "execution_count": 91,
      "outputs": [
        {
          "output_type": "execute_result",
          "data": {
            "text/plain": [
              "torch.Size([1, 8, 6, 64])"
            ]
          },
          "metadata": {},
          "execution_count": 91
        }
      ]
    },
    {
      "cell_type": "code",
      "source": [
        "class ResidualConnection(nn.Module):\n",
        "\n",
        "  def __init__(self, dropout: float):\n",
        "    super().__init__()\n",
        "    self.dropout = nn.Dropout(dropout)\n",
        "    self.norm = LayerNorm()\n",
        "\n",
        "  def forward(self, x, sublayer):\n",
        "    return x + self.dropout(sublayer(self.norm(x)))"
      ],
      "metadata": {
        "id": "oW7gyO416t-U"
      },
      "execution_count": 14,
      "outputs": []
    },
    {
      "cell_type": "code",
      "source": [
        "rc = ResidualConnection(0)\n",
        "rc"
      ],
      "metadata": {
        "colab": {
          "base_uri": "https://localhost:8080/"
        },
        "id": "L1ilVj6p8f-t",
        "outputId": "95258a46-6371-40f4-de9b-fbc36596c84a"
      },
      "execution_count": 15,
      "outputs": [
        {
          "output_type": "execute_result",
          "data": {
            "text/plain": [
              "ResidualConnection(\n",
              "  (dropout): Dropout(p=0, inplace=False)\n",
              "  (norm): LayerNorm()\n",
              ")"
            ]
          },
          "metadata": {},
          "execution_count": 15
        }
      ]
    },
    {
      "cell_type": "code",
      "source": [
        "class EncoderBlock(nn.Module):\n",
        "\n",
        "  def __init__(self, self_attention_block: MultiHeadAttentionBlock, feed_forward_block: FeedForward, dropout: float):\n",
        "    super().__init__()\n",
        "    self.attention_block = self_attention_block\n",
        "    self.feed_forward_block = feed_forward_block\n",
        "    self.residual_connections = nn.ModuleList([ResidualConnection(dropout) for _ in range(2)])\n",
        "\n",
        "\n",
        "  def forward(self, x, src_mask):\n",
        "    x = self.residual_connections[0](x, lambda x: self.attention_block(x,x,x,src_mask))\n",
        "    x = self.residual_connections[1](x, self.feed_forward_block)\n",
        "\n",
        "    return x\n"
      ],
      "metadata": {
        "id": "f3S8R1mY8085"
      },
      "execution_count": 16,
      "outputs": []
    },
    {
      "cell_type": "code",
      "source": [
        "en = EncoderBlock(mah, ff, 0)"
      ],
      "metadata": {
        "id": "uLyz3rnb-gf5"
      },
      "execution_count": 17,
      "outputs": []
    },
    {
      "cell_type": "code",
      "source": [
        "all_result = en(embs_pos, None)"
      ],
      "metadata": {
        "id": "xA3Cxj9u-x6L"
      },
      "execution_count": 18,
      "outputs": []
    },
    {
      "cell_type": "code",
      "source": [
        "all_result.shape"
      ],
      "metadata": {
        "colab": {
          "base_uri": "https://localhost:8080/"
        },
        "id": "_gEJXDF0BgLZ",
        "outputId": "edbb72dc-c729-4546-d232-770b6acd4cbd"
      },
      "execution_count": 19,
      "outputs": [
        {
          "output_type": "execute_result",
          "data": {
            "text/plain": [
              "torch.Size([1, 6, 512])"
            ]
          },
          "metadata": {},
          "execution_count": 19
        }
      ]
    },
    {
      "cell_type": "code",
      "source": [],
      "metadata": {
        "id": "mXZh-XBLBgOu"
      },
      "execution_count": null,
      "outputs": []
    },
    {
      "cell_type": "code",
      "source": [
        "class Encoder(nn.Module):\n",
        "\n",
        "  def __init__(self, layers: nn.ModuleList):\n",
        "    super().__init__()\n",
        "    self.layers = layers\n",
        "    self.norm = LayerNorm()\n",
        "\n",
        "  def forward(self, x, mask):\n",
        "    for layer in self.layers:\n",
        "      x = layer(x, mask)\n",
        "    return self.norm(x)"
      ],
      "metadata": {
        "id": "wAfJTLi--zYh"
      },
      "execution_count": 20,
      "outputs": []
    },
    {
      "cell_type": "code",
      "source": [
        "encoder = Encoder(nn.ModuleList([EncoderBlock(mah, ff, 0) for _ in range(5)]))\n",
        "encoder"
      ],
      "metadata": {
        "colab": {
          "base_uri": "https://localhost:8080/"
        },
        "id": "bBQL7I-ABcGJ",
        "outputId": "01ae530a-7291-48c9-eef5-197cc44e1c6a"
      },
      "execution_count": 21,
      "outputs": [
        {
          "output_type": "execute_result",
          "data": {
            "text/plain": [
              "Encoder(\n",
              "  (layers): ModuleList(\n",
              "    (0-4): 5 x EncoderBlock(\n",
              "      (attention_block): MultiHeadAttentionBlock(\n",
              "        (dropout): Dropout(p=0.5, inplace=False)\n",
              "        (w_q): Linear(in_features=512, out_features=512, bias=True)\n",
              "        (w_k): Linear(in_features=512, out_features=512, bias=True)\n",
              "        (w_v): Linear(in_features=512, out_features=512, bias=True)\n",
              "        (w_o): Linear(in_features=512, out_features=512, bias=True)\n",
              "      )\n",
              "      (feed_forward_block): FeedForward(\n",
              "        (ff_1): Linear(in_features=512, out_features=2048, bias=True)\n",
              "        (ff_2): Linear(in_features=2048, out_features=512, bias=True)\n",
              "        (dropout): Dropout(p=0, inplace=False)\n",
              "      )\n",
              "      (residual_connections): ModuleList(\n",
              "        (0-1): 2 x ResidualConnection(\n",
              "          (dropout): Dropout(p=0, inplace=False)\n",
              "          (norm): LayerNorm()\n",
              "        )\n",
              "      )\n",
              "    )\n",
              "  )\n",
              "  (norm): LayerNorm()\n",
              ")"
            ]
          },
          "metadata": {},
          "execution_count": 21
        }
      ]
    },
    {
      "cell_type": "code",
      "source": [
        "encoder_result = encoder(embs_pos, None)\n",
        "encoder_result.shape"
      ],
      "metadata": {
        "colab": {
          "base_uri": "https://localhost:8080/"
        },
        "id": "4DdWnNQICM6n",
        "outputId": "70af08a7-28d2-4da9-8b99-96c587ee3035"
      },
      "execution_count": 22,
      "outputs": [
        {
          "output_type": "execute_result",
          "data": {
            "text/plain": [
              "torch.Size([1, 6, 512])"
            ]
          },
          "metadata": {},
          "execution_count": 22
        }
      ]
    },
    {
      "cell_type": "code",
      "source": [
        "class DecoderBlock(nn.Module):\n",
        "\n",
        "  def __init__(self, self_attention_block: MultiHeadAttentionBlock, cross_attention_block: MultiHeadAttentionBlock, feed_forward: FeedForward, dropout: float):\n",
        "    super().__init__()\n",
        "    self.self_attention_block = self_attention_block\n",
        "    self.cross_attention_block = cross_attention_block\n",
        "    self.feed_forward_block = feed_forward\n",
        "    self.residual_connections = nn.ModuleList([ResidualConnection(dropout) for _ in range(3)])\n",
        "\n",
        "  def forward(self, x, encoder_output, src_mask, tgt_mask):\n",
        "    x = self.residual_connections[0](x, lambda x: self.self_attention_block(x,x,x,tgt_mask))\n",
        "    x = self.residual_connections[1](x, lambda x: self.cross_attention_block(x, encoder_output, encoder_output, src_mask))\n",
        "    x = self.residual_connections[2](x, self.feed_forward_block)\n",
        "\n",
        "    return x"
      ],
      "metadata": {
        "id": "sSukfHn2Cjjt"
      },
      "execution_count": 28,
      "outputs": []
    },
    {
      "cell_type": "code",
      "source": [
        "dec_block = DecoderBlock(mah, mah, ff, 0)\n",
        "dec_block"
      ],
      "metadata": {
        "colab": {
          "base_uri": "https://localhost:8080/"
        },
        "id": "lPpOKf0h95k2",
        "outputId": "1b54e8f9-2b0f-47ef-bbbb-6a06f511170a"
      },
      "execution_count": 29,
      "outputs": [
        {
          "output_type": "execute_result",
          "data": {
            "text/plain": [
              "DecoderBlock(\n",
              "  (self_attention_block): MultiHeadAttentionBlock(\n",
              "    (dropout): Dropout(p=0.5, inplace=False)\n",
              "    (w_q): Linear(in_features=512, out_features=512, bias=True)\n",
              "    (w_k): Linear(in_features=512, out_features=512, bias=True)\n",
              "    (w_v): Linear(in_features=512, out_features=512, bias=True)\n",
              "    (w_o): Linear(in_features=512, out_features=512, bias=True)\n",
              "  )\n",
              "  (cross_attention_block): MultiHeadAttentionBlock(\n",
              "    (dropout): Dropout(p=0.5, inplace=False)\n",
              "    (w_q): Linear(in_features=512, out_features=512, bias=True)\n",
              "    (w_k): Linear(in_features=512, out_features=512, bias=True)\n",
              "    (w_v): Linear(in_features=512, out_features=512, bias=True)\n",
              "    (w_o): Linear(in_features=512, out_features=512, bias=True)\n",
              "  )\n",
              "  (feed_forward_block): FeedForward(\n",
              "    (ff_1): Linear(in_features=512, out_features=2048, bias=True)\n",
              "    (ff_2): Linear(in_features=2048, out_features=512, bias=True)\n",
              "    (dropout): Dropout(p=0, inplace=False)\n",
              "  )\n",
              "  (residual_connections): ModuleList(\n",
              "    (0-2): 3 x ResidualConnection(\n",
              "      (dropout): Dropout(p=0, inplace=False)\n",
              "      (norm): LayerNorm()\n",
              "    )\n",
              "  )\n",
              ")"
            ]
          },
          "metadata": {},
          "execution_count": 29
        }
      ]
    },
    {
      "cell_type": "code",
      "source": [
        "class Decoder(nn.Module):\n",
        "\n",
        "  def __init__(self, layers: nn.ModuleList):\n",
        "    super().__init__()\n",
        "    self.layers = layers\n",
        "    self.norm = LayerNorm()\n",
        "\n",
        "  def forward(self, x, encoder_output, src_mask, tgt_mask):\n",
        "    for layer in self.layers:\n",
        "      x = layer(x, encoder_output, src_mask, tgt_mask)\n",
        "    return self.norm(x)"
      ],
      "metadata": {
        "id": "-vK3I6zVF8cg"
      },
      "execution_count": 24,
      "outputs": []
    },
    {
      "cell_type": "code",
      "source": [
        "dec = Decoder(nn.ModuleList([DecoderBlock(mah,mah, ff, 0) for _ in range(5)]))\n",
        "dec"
      ],
      "metadata": {
        "colab": {
          "base_uri": "https://localhost:8080/"
        },
        "id": "lyMD0iwS9bVH",
        "outputId": "9fc8a8d5-8389-4e5a-fa35-d9d9be96608b"
      },
      "execution_count": 30,
      "outputs": [
        {
          "output_type": "execute_result",
          "data": {
            "text/plain": [
              "Decoder(\n",
              "  (layers): ModuleList(\n",
              "    (0-4): 5 x DecoderBlock(\n",
              "      (self_attention_block): MultiHeadAttentionBlock(\n",
              "        (dropout): Dropout(p=0.5, inplace=False)\n",
              "        (w_q): Linear(in_features=512, out_features=512, bias=True)\n",
              "        (w_k): Linear(in_features=512, out_features=512, bias=True)\n",
              "        (w_v): Linear(in_features=512, out_features=512, bias=True)\n",
              "        (w_o): Linear(in_features=512, out_features=512, bias=True)\n",
              "      )\n",
              "      (cross_attention_block): MultiHeadAttentionBlock(\n",
              "        (dropout): Dropout(p=0.5, inplace=False)\n",
              "        (w_q): Linear(in_features=512, out_features=512, bias=True)\n",
              "        (w_k): Linear(in_features=512, out_features=512, bias=True)\n",
              "        (w_v): Linear(in_features=512, out_features=512, bias=True)\n",
              "        (w_o): Linear(in_features=512, out_features=512, bias=True)\n",
              "      )\n",
              "      (feed_forward_block): FeedForward(\n",
              "        (ff_1): Linear(in_features=512, out_features=2048, bias=True)\n",
              "        (ff_2): Linear(in_features=2048, out_features=512, bias=True)\n",
              "        (dropout): Dropout(p=0, inplace=False)\n",
              "      )\n",
              "      (residual_connections): ModuleList(\n",
              "        (0-2): 3 x ResidualConnection(\n",
              "          (dropout): Dropout(p=0, inplace=False)\n",
              "          (norm): LayerNorm()\n",
              "        )\n",
              "      )\n",
              "    )\n",
              "  )\n",
              "  (norm): LayerNorm()\n",
              ")"
            ]
          },
          "metadata": {},
          "execution_count": 30
        }
      ]
    },
    {
      "cell_type": "code",
      "source": [
        "decoder_output = dec(embs_pos, encoder_result, None, None)\n",
        "decoder_output.shape"
      ],
      "metadata": {
        "colab": {
          "base_uri": "https://localhost:8080/"
        },
        "id": "AblZ3HGX-Ggy",
        "outputId": "7dd9707e-804b-4dfc-921d-675012b7d4f3"
      },
      "execution_count": 32,
      "outputs": [
        {
          "output_type": "execute_result",
          "data": {
            "text/plain": [
              "torch.Size([1, 6, 512])"
            ]
          },
          "metadata": {},
          "execution_count": 32
        }
      ]
    },
    {
      "cell_type": "code",
      "source": [
        "class ProjectionLayer(nn.Module):\n",
        "\n",
        "  def __init__(self, d_model:int, vocab_size: int):\n",
        "    super().__init__()\n",
        "    self.proj = nn.Linear(d_model, vocab_size)\n",
        "\n",
        "  def forward(self, x):\n",
        "    x = self.proj(x)\n",
        "\n",
        "    return torch.log_softmax(x, dim=-1)\n"
      ],
      "metadata": {
        "id": "3UxF_REMhRGW"
      },
      "execution_count": 25,
      "outputs": []
    },
    {
      "cell_type": "code",
      "source": [
        "proj = ProjectionLayer(512, 4096)\n",
        "proj = proj(decoder_output)\n",
        "proj.shape"
      ],
      "metadata": {
        "colab": {
          "base_uri": "https://localhost:8080/"
        },
        "id": "1Bhr6k5x9Pnm",
        "outputId": "fabb3acc-fff4-4a02-effc-4d9e20bab9bc"
      },
      "execution_count": 33,
      "outputs": [
        {
          "output_type": "execute_result",
          "data": {
            "text/plain": [
              "torch.Size([1, 6, 4096])"
            ]
          },
          "metadata": {},
          "execution_count": 33
        }
      ]
    },
    {
      "cell_type": "code",
      "source": [
        "class TransformerBlock(nn.Module):\n",
        "\n",
        "  def __init__(self, encoder: Encoder, decoder: Decoder, src_emb: InputEmbeddings, tgt_emb: InputEmbeddings, src_pos: PositionalEncoding, tgt_pos: PositionalEncoding, proj: ProjectionLayer):\n",
        "    super().__init__()\n",
        "    self.encoder = encoder\n",
        "    self.decoder = decoder\n",
        "    self.src_emb = src_emb\n",
        "    self.tgt_emb = tgt_emb\n",
        "    self.src_pos = src_pos\n",
        "    self.tgt_pos = tgt_pos\n",
        "    self.proj = proj\n",
        "\n",
        "  def encode(self, src, src_mask):\n",
        "    src = self.src_embed(src)\n",
        "    src = self.src_pos(src)\n",
        "    return self.encoder(src, src_mask)\n",
        "\n",
        "  def decode(self, encoder_output, src_mask, tgt, tgt_mask):\n",
        "    tgt = self.tgt_embed(tgt)\n",
        "    tgt = self.tgt_pos(tgt)\n",
        "    return self.decoder(tgt, encoder_output, src_mask, tgt_mask)\n",
        "\n",
        "  def project(self, x):\n",
        "    return self.proj(x)\n",
        "\n",
        "\n",
        ""
      ],
      "metadata": {
        "id": "VvZBAS1P-aBf"
      },
      "execution_count": 34,
      "outputs": []
    },
    {
      "cell_type": "code",
      "source": [
        "def build_transformer(src_vocab_size: int, tgt_vocab_size: int, src_seq_len: int, tgt_seq_len:int, d_ff: int = 2048, d_model: int = 512, N: int = 6, h: int = 8, dropout: float = 0.0):\n",
        "\n",
        "  # embed layer\n",
        "  src_embed = InputEmbeddings(d_model, src_vocab_size)\n",
        "  tgt_embed = InputEmbeddings(d_model, tgt_vocab_size)\n",
        "\n",
        "  # pos embs\n",
        "  src_pos = PositionalEncoding(d_model, src_seq_len, dropout)\n",
        "  tgt_pos = PositionalEncoding(d_model, tgt_seq_len, dropout)\n",
        "\n",
        "\n",
        "  # encoder\n",
        "  encoder_blocks = []\n",
        "  for _ in range(N):\n",
        "    encoder_self_attention_block = MultiHeadAttentionBlock(d_model, h, dropout)\n",
        "    feed_forward_block = FeedForward(d_model, d_ff, dropout)\n",
        "    encoder_block = EncoderBlock(encoder_self_attention_block, feed_forward_block, dropout)\n",
        "    encoder_blocks.append(encoder_block)\n",
        "\n",
        "  # decoder\n",
        "  decoder_blocks = []\n",
        "  decoder_self_attention_block = MultiHeadAttentionBlock(d_model, h, dropout)\n",
        "  decoder_cross_attention_block = MultiHeadAttentionBlock(d_model, h, dropout)\n",
        "  feed_forward_block = FeedForward(d_model, d_ff, dropout)\n",
        "  decoder_block = DecoderBlock(decoder_self_attention_block, decoder_cross_attention_block, feed_forward_block, dropout)\n",
        "  decoder_blocks.append(decoder_block)\n",
        "\n",
        "  # combine\n",
        "  encoder = Encoder(nn.ModuleList(encoder_blocks))\n",
        "  decoder = Decoder(nn.ModuleList(decoder_blocks))\n",
        "\n",
        "\n",
        "  # projection\n",
        "  projection_layer = ProjectionLayer(d_model, tgt_vocab_size)\n",
        "\n",
        "  # transformer\n",
        "\n",
        "  transformer = TransformerBlock(encoder, decoder, src_embed, tgt_embed, src_pos, tgt_pos, projection_layer)\n",
        "\n",
        "  for p in transformer.parameters():\n",
        "    if p.dim()>1:\n",
        "      nn.init.xavier_uniform_(p)\n",
        "\n",
        "\n",
        "  return transformer\n",
        ""
      ],
      "metadata": {
        "id": "ODibcY0x_tqQ"
      },
      "execution_count": 46,
      "outputs": []
    },
    {
      "cell_type": "code",
      "source": [
        "tf = build_transformer(4096, 4096, 6, 6)"
      ],
      "metadata": {
        "id": "F0T-O22uAcD0"
      },
      "execution_count": 47,
      "outputs": []
    },
    {
      "cell_type": "code",
      "source": [
        "tf"
      ],
      "metadata": {
        "colab": {
          "base_uri": "https://localhost:8080/"
        },
        "id": "ftq_1KN0Dx2b",
        "outputId": "7069ff4c-480c-4a06-bceb-135899156987"
      },
      "execution_count": 48,
      "outputs": [
        {
          "output_type": "execute_result",
          "data": {
            "text/plain": [
              "TransformerBlock(\n",
              "  (encoder): Encoder(\n",
              "    (layers): ModuleList(\n",
              "      (0-5): 6 x EncoderBlock(\n",
              "        (attention_block): MultiHeadAttentionBlock(\n",
              "          (dropout): Dropout(p=0.5, inplace=False)\n",
              "          (w_q): Linear(in_features=512, out_features=512, bias=True)\n",
              "          (w_k): Linear(in_features=512, out_features=512, bias=True)\n",
              "          (w_v): Linear(in_features=512, out_features=512, bias=True)\n",
              "          (w_o): Linear(in_features=512, out_features=512, bias=True)\n",
              "        )\n",
              "        (feed_forward_block): FeedForward(\n",
              "          (ff_1): Linear(in_features=512, out_features=2048, bias=True)\n",
              "          (ff_2): Linear(in_features=2048, out_features=512, bias=True)\n",
              "          (dropout): Dropout(p=0.0, inplace=False)\n",
              "        )\n",
              "        (residual_connections): ModuleList(\n",
              "          (0-1): 2 x ResidualConnection(\n",
              "            (dropout): Dropout(p=0.0, inplace=False)\n",
              "            (norm): LayerNorm()\n",
              "          )\n",
              "        )\n",
              "      )\n",
              "    )\n",
              "    (norm): LayerNorm()\n",
              "  )\n",
              "  (decoder): Decoder(\n",
              "    (layers): ModuleList(\n",
              "      (0): DecoderBlock(\n",
              "        (self_attention_block): MultiHeadAttentionBlock(\n",
              "          (dropout): Dropout(p=0.5, inplace=False)\n",
              "          (w_q): Linear(in_features=512, out_features=512, bias=True)\n",
              "          (w_k): Linear(in_features=512, out_features=512, bias=True)\n",
              "          (w_v): Linear(in_features=512, out_features=512, bias=True)\n",
              "          (w_o): Linear(in_features=512, out_features=512, bias=True)\n",
              "        )\n",
              "        (cross_attention_block): MultiHeadAttentionBlock(\n",
              "          (dropout): Dropout(p=0.5, inplace=False)\n",
              "          (w_q): Linear(in_features=512, out_features=512, bias=True)\n",
              "          (w_k): Linear(in_features=512, out_features=512, bias=True)\n",
              "          (w_v): Linear(in_features=512, out_features=512, bias=True)\n",
              "          (w_o): Linear(in_features=512, out_features=512, bias=True)\n",
              "        )\n",
              "        (feed_forward_block): FeedForward(\n",
              "          (ff_1): Linear(in_features=512, out_features=2048, bias=True)\n",
              "          (ff_2): Linear(in_features=2048, out_features=512, bias=True)\n",
              "          (dropout): Dropout(p=0.0, inplace=False)\n",
              "        )\n",
              "        (residual_connections): ModuleList(\n",
              "          (0-2): 3 x ResidualConnection(\n",
              "            (dropout): Dropout(p=0.0, inplace=False)\n",
              "            (norm): LayerNorm()\n",
              "          )\n",
              "        )\n",
              "      )\n",
              "    )\n",
              "    (norm): LayerNorm()\n",
              "  )\n",
              "  (src_emb): InputEmbeddings(\n",
              "    (emb): Embedding(4096, 512)\n",
              "  )\n",
              "  (tgt_emb): InputEmbeddings(\n",
              "    (emb): Embedding(4096, 512)\n",
              "  )\n",
              "  (src_pos): PositionalEncoding(\n",
              "    (dropout): Dropout(p=0.5, inplace=False)\n",
              "  )\n",
              "  (tgt_pos): PositionalEncoding(\n",
              "    (dropout): Dropout(p=0.5, inplace=False)\n",
              "  )\n",
              "  (proj): ProjectionLayer(\n",
              "    (proj): Linear(in_features=512, out_features=4096, bias=True)\n",
              "  )\n",
              ")"
            ]
          },
          "metadata": {},
          "execution_count": 48
        }
      ]
    },
    {
      "cell_type": "code",
      "source": [
        "# Get named learnable parameters\n",
        "learnable_named_params = [(name, param) for name, param in tf.named_parameters() if param.requires_grad]\n",
        "\n",
        "for name, param in learnable_named_params:\n",
        "    print(f\"Parameter name: {name}, value: {param.shape}\")\n"
      ],
      "metadata": {
        "colab": {
          "base_uri": "https://localhost:8080/"
        },
        "id": "UiL5Zk8iD646",
        "outputId": "e7a4726a-dc12-4348-8a6f-da6571dfa61a"
      },
      "execution_count": 49,
      "outputs": [
        {
          "output_type": "stream",
          "name": "stdout",
          "text": [
            "Parameter name: encoder.layers.0.attention_block.w_q.weight, value: torch.Size([512, 512])\n",
            "Parameter name: encoder.layers.0.attention_block.w_q.bias, value: torch.Size([512])\n",
            "Parameter name: encoder.layers.0.attention_block.w_k.weight, value: torch.Size([512, 512])\n",
            "Parameter name: encoder.layers.0.attention_block.w_k.bias, value: torch.Size([512])\n",
            "Parameter name: encoder.layers.0.attention_block.w_v.weight, value: torch.Size([512, 512])\n",
            "Parameter name: encoder.layers.0.attention_block.w_v.bias, value: torch.Size([512])\n",
            "Parameter name: encoder.layers.0.attention_block.w_o.weight, value: torch.Size([512, 512])\n",
            "Parameter name: encoder.layers.0.attention_block.w_o.bias, value: torch.Size([512])\n",
            "Parameter name: encoder.layers.0.feed_forward_block.ff_1.weight, value: torch.Size([2048, 512])\n",
            "Parameter name: encoder.layers.0.feed_forward_block.ff_1.bias, value: torch.Size([2048])\n",
            "Parameter name: encoder.layers.0.feed_forward_block.ff_2.weight, value: torch.Size([512, 2048])\n",
            "Parameter name: encoder.layers.0.feed_forward_block.ff_2.bias, value: torch.Size([512])\n",
            "Parameter name: encoder.layers.0.residual_connections.0.norm.alpha, value: torch.Size([1])\n",
            "Parameter name: encoder.layers.0.residual_connections.0.norm.bias, value: torch.Size([1])\n",
            "Parameter name: encoder.layers.0.residual_connections.1.norm.alpha, value: torch.Size([1])\n",
            "Parameter name: encoder.layers.0.residual_connections.1.norm.bias, value: torch.Size([1])\n",
            "Parameter name: encoder.layers.1.attention_block.w_q.weight, value: torch.Size([512, 512])\n",
            "Parameter name: encoder.layers.1.attention_block.w_q.bias, value: torch.Size([512])\n",
            "Parameter name: encoder.layers.1.attention_block.w_k.weight, value: torch.Size([512, 512])\n",
            "Parameter name: encoder.layers.1.attention_block.w_k.bias, value: torch.Size([512])\n",
            "Parameter name: encoder.layers.1.attention_block.w_v.weight, value: torch.Size([512, 512])\n",
            "Parameter name: encoder.layers.1.attention_block.w_v.bias, value: torch.Size([512])\n",
            "Parameter name: encoder.layers.1.attention_block.w_o.weight, value: torch.Size([512, 512])\n",
            "Parameter name: encoder.layers.1.attention_block.w_o.bias, value: torch.Size([512])\n",
            "Parameter name: encoder.layers.1.feed_forward_block.ff_1.weight, value: torch.Size([2048, 512])\n",
            "Parameter name: encoder.layers.1.feed_forward_block.ff_1.bias, value: torch.Size([2048])\n",
            "Parameter name: encoder.layers.1.feed_forward_block.ff_2.weight, value: torch.Size([512, 2048])\n",
            "Parameter name: encoder.layers.1.feed_forward_block.ff_2.bias, value: torch.Size([512])\n",
            "Parameter name: encoder.layers.1.residual_connections.0.norm.alpha, value: torch.Size([1])\n",
            "Parameter name: encoder.layers.1.residual_connections.0.norm.bias, value: torch.Size([1])\n",
            "Parameter name: encoder.layers.1.residual_connections.1.norm.alpha, value: torch.Size([1])\n",
            "Parameter name: encoder.layers.1.residual_connections.1.norm.bias, value: torch.Size([1])\n",
            "Parameter name: encoder.layers.2.attention_block.w_q.weight, value: torch.Size([512, 512])\n",
            "Parameter name: encoder.layers.2.attention_block.w_q.bias, value: torch.Size([512])\n",
            "Parameter name: encoder.layers.2.attention_block.w_k.weight, value: torch.Size([512, 512])\n",
            "Parameter name: encoder.layers.2.attention_block.w_k.bias, value: torch.Size([512])\n",
            "Parameter name: encoder.layers.2.attention_block.w_v.weight, value: torch.Size([512, 512])\n",
            "Parameter name: encoder.layers.2.attention_block.w_v.bias, value: torch.Size([512])\n",
            "Parameter name: encoder.layers.2.attention_block.w_o.weight, value: torch.Size([512, 512])\n",
            "Parameter name: encoder.layers.2.attention_block.w_o.bias, value: torch.Size([512])\n",
            "Parameter name: encoder.layers.2.feed_forward_block.ff_1.weight, value: torch.Size([2048, 512])\n",
            "Parameter name: encoder.layers.2.feed_forward_block.ff_1.bias, value: torch.Size([2048])\n",
            "Parameter name: encoder.layers.2.feed_forward_block.ff_2.weight, value: torch.Size([512, 2048])\n",
            "Parameter name: encoder.layers.2.feed_forward_block.ff_2.bias, value: torch.Size([512])\n",
            "Parameter name: encoder.layers.2.residual_connections.0.norm.alpha, value: torch.Size([1])\n",
            "Parameter name: encoder.layers.2.residual_connections.0.norm.bias, value: torch.Size([1])\n",
            "Parameter name: encoder.layers.2.residual_connections.1.norm.alpha, value: torch.Size([1])\n",
            "Parameter name: encoder.layers.2.residual_connections.1.norm.bias, value: torch.Size([1])\n",
            "Parameter name: encoder.layers.3.attention_block.w_q.weight, value: torch.Size([512, 512])\n",
            "Parameter name: encoder.layers.3.attention_block.w_q.bias, value: torch.Size([512])\n",
            "Parameter name: encoder.layers.3.attention_block.w_k.weight, value: torch.Size([512, 512])\n",
            "Parameter name: encoder.layers.3.attention_block.w_k.bias, value: torch.Size([512])\n",
            "Parameter name: encoder.layers.3.attention_block.w_v.weight, value: torch.Size([512, 512])\n",
            "Parameter name: encoder.layers.3.attention_block.w_v.bias, value: torch.Size([512])\n",
            "Parameter name: encoder.layers.3.attention_block.w_o.weight, value: torch.Size([512, 512])\n",
            "Parameter name: encoder.layers.3.attention_block.w_o.bias, value: torch.Size([512])\n",
            "Parameter name: encoder.layers.3.feed_forward_block.ff_1.weight, value: torch.Size([2048, 512])\n",
            "Parameter name: encoder.layers.3.feed_forward_block.ff_1.bias, value: torch.Size([2048])\n",
            "Parameter name: encoder.layers.3.feed_forward_block.ff_2.weight, value: torch.Size([512, 2048])\n",
            "Parameter name: encoder.layers.3.feed_forward_block.ff_2.bias, value: torch.Size([512])\n",
            "Parameter name: encoder.layers.3.residual_connections.0.norm.alpha, value: torch.Size([1])\n",
            "Parameter name: encoder.layers.3.residual_connections.0.norm.bias, value: torch.Size([1])\n",
            "Parameter name: encoder.layers.3.residual_connections.1.norm.alpha, value: torch.Size([1])\n",
            "Parameter name: encoder.layers.3.residual_connections.1.norm.bias, value: torch.Size([1])\n",
            "Parameter name: encoder.layers.4.attention_block.w_q.weight, value: torch.Size([512, 512])\n",
            "Parameter name: encoder.layers.4.attention_block.w_q.bias, value: torch.Size([512])\n",
            "Parameter name: encoder.layers.4.attention_block.w_k.weight, value: torch.Size([512, 512])\n",
            "Parameter name: encoder.layers.4.attention_block.w_k.bias, value: torch.Size([512])\n",
            "Parameter name: encoder.layers.4.attention_block.w_v.weight, value: torch.Size([512, 512])\n",
            "Parameter name: encoder.layers.4.attention_block.w_v.bias, value: torch.Size([512])\n",
            "Parameter name: encoder.layers.4.attention_block.w_o.weight, value: torch.Size([512, 512])\n",
            "Parameter name: encoder.layers.4.attention_block.w_o.bias, value: torch.Size([512])\n",
            "Parameter name: encoder.layers.4.feed_forward_block.ff_1.weight, value: torch.Size([2048, 512])\n",
            "Parameter name: encoder.layers.4.feed_forward_block.ff_1.bias, value: torch.Size([2048])\n",
            "Parameter name: encoder.layers.4.feed_forward_block.ff_2.weight, value: torch.Size([512, 2048])\n",
            "Parameter name: encoder.layers.4.feed_forward_block.ff_2.bias, value: torch.Size([512])\n",
            "Parameter name: encoder.layers.4.residual_connections.0.norm.alpha, value: torch.Size([1])\n",
            "Parameter name: encoder.layers.4.residual_connections.0.norm.bias, value: torch.Size([1])\n",
            "Parameter name: encoder.layers.4.residual_connections.1.norm.alpha, value: torch.Size([1])\n",
            "Parameter name: encoder.layers.4.residual_connections.1.norm.bias, value: torch.Size([1])\n",
            "Parameter name: encoder.layers.5.attention_block.w_q.weight, value: torch.Size([512, 512])\n",
            "Parameter name: encoder.layers.5.attention_block.w_q.bias, value: torch.Size([512])\n",
            "Parameter name: encoder.layers.5.attention_block.w_k.weight, value: torch.Size([512, 512])\n",
            "Parameter name: encoder.layers.5.attention_block.w_k.bias, value: torch.Size([512])\n",
            "Parameter name: encoder.layers.5.attention_block.w_v.weight, value: torch.Size([512, 512])\n",
            "Parameter name: encoder.layers.5.attention_block.w_v.bias, value: torch.Size([512])\n",
            "Parameter name: encoder.layers.5.attention_block.w_o.weight, value: torch.Size([512, 512])\n",
            "Parameter name: encoder.layers.5.attention_block.w_o.bias, value: torch.Size([512])\n",
            "Parameter name: encoder.layers.5.feed_forward_block.ff_1.weight, value: torch.Size([2048, 512])\n",
            "Parameter name: encoder.layers.5.feed_forward_block.ff_1.bias, value: torch.Size([2048])\n",
            "Parameter name: encoder.layers.5.feed_forward_block.ff_2.weight, value: torch.Size([512, 2048])\n",
            "Parameter name: encoder.layers.5.feed_forward_block.ff_2.bias, value: torch.Size([512])\n",
            "Parameter name: encoder.layers.5.residual_connections.0.norm.alpha, value: torch.Size([1])\n",
            "Parameter name: encoder.layers.5.residual_connections.0.norm.bias, value: torch.Size([1])\n",
            "Parameter name: encoder.layers.5.residual_connections.1.norm.alpha, value: torch.Size([1])\n",
            "Parameter name: encoder.layers.5.residual_connections.1.norm.bias, value: torch.Size([1])\n",
            "Parameter name: encoder.norm.alpha, value: torch.Size([1])\n",
            "Parameter name: encoder.norm.bias, value: torch.Size([1])\n",
            "Parameter name: decoder.layers.0.self_attention_block.w_q.weight, value: torch.Size([512, 512])\n",
            "Parameter name: decoder.layers.0.self_attention_block.w_q.bias, value: torch.Size([512])\n",
            "Parameter name: decoder.layers.0.self_attention_block.w_k.weight, value: torch.Size([512, 512])\n",
            "Parameter name: decoder.layers.0.self_attention_block.w_k.bias, value: torch.Size([512])\n",
            "Parameter name: decoder.layers.0.self_attention_block.w_v.weight, value: torch.Size([512, 512])\n",
            "Parameter name: decoder.layers.0.self_attention_block.w_v.bias, value: torch.Size([512])\n",
            "Parameter name: decoder.layers.0.self_attention_block.w_o.weight, value: torch.Size([512, 512])\n",
            "Parameter name: decoder.layers.0.self_attention_block.w_o.bias, value: torch.Size([512])\n",
            "Parameter name: decoder.layers.0.cross_attention_block.w_q.weight, value: torch.Size([512, 512])\n",
            "Parameter name: decoder.layers.0.cross_attention_block.w_q.bias, value: torch.Size([512])\n",
            "Parameter name: decoder.layers.0.cross_attention_block.w_k.weight, value: torch.Size([512, 512])\n",
            "Parameter name: decoder.layers.0.cross_attention_block.w_k.bias, value: torch.Size([512])\n",
            "Parameter name: decoder.layers.0.cross_attention_block.w_v.weight, value: torch.Size([512, 512])\n",
            "Parameter name: decoder.layers.0.cross_attention_block.w_v.bias, value: torch.Size([512])\n",
            "Parameter name: decoder.layers.0.cross_attention_block.w_o.weight, value: torch.Size([512, 512])\n",
            "Parameter name: decoder.layers.0.cross_attention_block.w_o.bias, value: torch.Size([512])\n",
            "Parameter name: decoder.layers.0.feed_forward_block.ff_1.weight, value: torch.Size([2048, 512])\n",
            "Parameter name: decoder.layers.0.feed_forward_block.ff_1.bias, value: torch.Size([2048])\n",
            "Parameter name: decoder.layers.0.feed_forward_block.ff_2.weight, value: torch.Size([512, 2048])\n",
            "Parameter name: decoder.layers.0.feed_forward_block.ff_2.bias, value: torch.Size([512])\n",
            "Parameter name: decoder.layers.0.residual_connections.0.norm.alpha, value: torch.Size([1])\n",
            "Parameter name: decoder.layers.0.residual_connections.0.norm.bias, value: torch.Size([1])\n",
            "Parameter name: decoder.layers.0.residual_connections.1.norm.alpha, value: torch.Size([1])\n",
            "Parameter name: decoder.layers.0.residual_connections.1.norm.bias, value: torch.Size([1])\n",
            "Parameter name: decoder.layers.0.residual_connections.2.norm.alpha, value: torch.Size([1])\n",
            "Parameter name: decoder.layers.0.residual_connections.2.norm.bias, value: torch.Size([1])\n",
            "Parameter name: decoder.norm.alpha, value: torch.Size([1])\n",
            "Parameter name: decoder.norm.bias, value: torch.Size([1])\n",
            "Parameter name: src_emb.emb.weight, value: torch.Size([4096, 512])\n",
            "Parameter name: tgt_emb.emb.weight, value: torch.Size([4096, 512])\n",
            "Parameter name: proj.proj.weight, value: torch.Size([4096, 512])\n",
            "Parameter name: proj.proj.bias, value: torch.Size([4096])\n"
          ]
        }
      ]
    },
    {
      "cell_type": "code",
      "source": [
        "# Calculate the total number of learnable parameters\n",
        "learnable_params = [param for param in tf.parameters() if param.requires_grad]\n",
        "total_learnable_params = sum(p.numel() for p in learnable_params)\n",
        "print(f\"Total Learnable params : {(total_learnable_params / 1000000):.1f} Million\")\n"
      ],
      "metadata": {
        "colab": {
          "base_uri": "https://localhost:8080/"
        },
        "id": "hihQk8fkGvvz",
        "outputId": "4f3acf58-8d11-4c50-bf63-635ee621d8d1"
      },
      "execution_count": 56,
      "outputs": [
        {
          "output_type": "stream",
          "name": "stdout",
          "text": [
            "Total Learnable params : 29.4 Million\n"
          ]
        }
      ]
    },
    {
      "cell_type": "code",
      "source": [],
      "metadata": {
        "id": "HjmfPfJxHT_e"
      },
      "execution_count": null,
      "outputs": []
    }
  ]
}